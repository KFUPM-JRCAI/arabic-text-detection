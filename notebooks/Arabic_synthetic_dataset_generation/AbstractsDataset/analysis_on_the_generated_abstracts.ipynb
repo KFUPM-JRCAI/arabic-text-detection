{
 "cells": [
  {
   "cell_type": "code",
   "execution_count": 1,
   "metadata": {},
   "outputs": [],
   "source": [
    "import os\n",
    "os.environ['CUDA_VISIBLE_DEVICES'] = '0'"
   ]
  },
  {
   "cell_type": "code",
   "execution_count": 2,
   "metadata": {},
   "outputs": [],
   "source": [
    "import json"
   ]
  },
  {
   "cell_type": "markdown",
   "metadata": {},
   "source": [
    "# Utilities and Functions"
   ]
  },
  {
   "cell_type": "markdown",
   "metadata": {},
   "source": [
    "## BLEU Calculation"
   ]
  },
  {
   "cell_type": "code",
   "execution_count": 3,
   "metadata": {},
   "outputs": [],
   "source": [
    "from sacrebleu import BLEU\n",
    "from evaluate import load"
   ]
  },
  {
   "cell_type": "code",
   "execution_count": 4,
   "metadata": {},
   "outputs": [],
   "source": [
    "import warnings\n",
    "import logging\n",
    "import os\n",
    "from transformers import logging as transformers_logging\n",
    "\n",
    "# Suppress ALL HuggingFace warnings\n",
    "transformers_logging.set_verbosity_error()\n",
    "warnings.filterwarnings(\"ignore\")  # This suppresses all warnings\n",
    "\n",
    "# Suppress NLTK messages - try both methods\n",
    "logging.getLogger().setLevel(logging.ERROR)"
   ]
  },
  {
   "cell_type": "code",
   "execution_count": 5,
   "metadata": {},
   "outputs": [],
   "source": [
    "def calculate_metrics_batch(references,hypotheses,verbose= False):\n",
    "    # Load metrics\n",
    "    bleu = load('bleu')\n",
    "    meteor = load(\"meteor\")\n",
    "    rouge = load(\"rouge\")\n",
    "    bertscore = load(\"bertscore\")\n",
    "    \n",
    "    # Format references for metrics that expect a single reference\n",
    "    single_refs = [ref_list[0] for ref_list in references]\n",
    "    \n",
    "    # Calculate BLEU\n",
    "    bleu_score = bleu.compute(predictions=hypotheses, references=single_refs)\n",
    "    \n",
    "    # Calculate METEOR\n",
    "    meteor_score = meteor.compute(\n",
    "        predictions=hypotheses,\n",
    "        references=single_refs\n",
    "    )\n",
    "    \n",
    "    # Calculate ROUGE\n",
    "    rouge_scores = rouge.compute(\n",
    "        predictions=hypotheses,\n",
    "        references=single_refs,\n",
    "        rouge_types=[\"rouge1\", \"rouge2\", \"rougeL\"]\n",
    "    )\n",
    "    \n",
    "    bert_scores = bertscore.compute(\n",
    "        predictions=hypotheses,\n",
    "        references=single_refs,\n",
    "        lang=\"ar\",  # Set language to Arabic\n",
    "        # model_type=\"aubmindlab/bert-large-arabertv02\"  # Using ArabertV2, a specialized Arabic BERT model\n",
    "        # Alternative models:\n",
    "        # - \"bert-base-multilingual-cased\"  # If you want a multilingual model\n",
    "        # - \"CAMeL-Lab/bert-base-arabic-camelbert-da\"  # Another good Arabic BERT\n",
    "    )\n",
    "    \n",
    "    # Average BERTScore across all sentences\n",
    "    bert_f1 = sum(bert_scores['f1']) / len(bert_scores['f1'])\n",
    "    \n",
    "    if verbose:\n",
    "        # Return all scores\n",
    "        return {\n",
    "            'bleu': bleu_score,\n",
    "            'meteor': meteor_score['meteor'],\n",
    "            'rouge': {\n",
    "                'rouge1': {\n",
    "                    'precision': rouge_scores['rouge1_precision'],\n",
    "                    'recall': rouge_scores['rouge1_recall'],\n",
    "                    'f1': rouge_scores['rouge1']\n",
    "                },\n",
    "                'rouge2': {\n",
    "                    'precision': rouge_scores['rouge2_precision'],\n",
    "                    'recall': rouge_scores['rouge2_recall'],\n",
    "                    'f1': rouge_scores['rouge2']\n",
    "                },\n",
    "                'rougeL': {\n",
    "                    'precision': rouge_scores['rougeL_precision'],\n",
    "                    'recall': rouge_scores['rougeL_recall'],\n",
    "                    'f1': rouge_scores['rougeL']\n",
    "                }\n",
    "            },\n",
    "            'bert_score': {\n",
    "                'precision': sum(bert_scores['precision']) / len(bert_scores['precision']),\n",
    "                'recall': sum(bert_scores['recall']) / len(bert_scores['recall']),\n",
    "                'f1': bert_f1\n",
    "            }\n",
    "        }\n",
    "    else:\n",
    "        # Return only primary metrics commonly reported in literature\n",
    "        return {\n",
    "            'bleu': bleu_score['bleu'],\n",
    "            'meteor': meteor_score['meteor'],\n",
    "            'rouge_l_f1': rouge_scores['rougeL'],  # Most commonly reported ROUGE metric\n",
    "            'bert_score_f1': bert_f1  # Most commonly reported BERTScore metric\n",
    "        }"
   ]
  },
  {
   "cell_type": "code",
   "execution_count": 6,
   "metadata": {},
   "outputs": [],
   "source": [
    "def read_jsonl(filename):\n",
    "    data = []\n",
    "    with open(filename, 'r') as f:\n",
    "        for line in f:\n",
    "            data.append(json.loads(line.strip()))\n",
    "    return data"
   ]
  },
  {
   "cell_type": "code",
   "execution_count": 7,
   "metadata": {},
   "outputs": [],
   "source": [
    "def is_mostly_arabic(text, threshold=0.9):\n",
    "    if not text:\n",
    "        return False\n",
    "    \n",
    "    # Define Arabic Unicode ranges\n",
    "    arabic_ranges = [\n",
    "        (0x0600, 0x06FF),   # Arabic\n",
    "        (0x0750, 0x077F),   # Arabic Supplement\n",
    "        (0xFB50, 0xFDFF),   # Arabic Presentation Forms-A\n",
    "        (0xFE70, 0xFEFF),   # Arabic Presentation Forms-B\n",
    "        (0x0660, 0x0669),   # Arabic-Indic digits\n",
    "    ]\n",
    "    \n",
    "    # Count total characters (excluding whitespace)\n",
    "    total_chars = len([c for c in text if not c.isspace()])\n",
    "    if total_chars == 0:\n",
    "        return False\n",
    "    \n",
    "    # Count Arabic characters\n",
    "    arabic_count = 0\n",
    "    for char in text:\n",
    "        if char.isspace():\n",
    "            continue\n",
    "        char_code = ord(char)\n",
    "        is_arabic = any(start <= char_code <= end for start, end in arabic_ranges)\n",
    "        if is_arabic:\n",
    "            arabic_count += 1\n",
    "    \n",
    "    # Calculate percentage\n",
    "    arabic_percentage = arabic_count / total_chars\n",
    "    \n",
    "    return arabic_percentage >= threshold"
   ]
  },
  {
   "cell_type": "code",
   "execution_count": 8,
   "metadata": {},
   "outputs": [],
   "source": [
    "def is_valid_abstract(abstract_dict):\n",
    "    generated_abstract = abstract_dict['generated_abstract']\n",
    "    # filter by ability to generate\n",
    "    first_ten_words = [word for word in generated_abstract.split() if word][:15]\n",
    "    not_able_to_generate_keywords = ['للأسف','التحويل','تشويه']\n",
    "    if set(first_ten_words).intersection(set(not_able_to_generate_keywords)):\n",
    "        return False\n",
    "    # filter by length, set minimum to 30 words\n",
    "    if len([word for word in generated_abstract.split() if word]) < 30:\n",
    "        return False\n",
    "    # filter by arabic letters majority\n",
    "    if not is_mostly_arabic(generated_abstract):\n",
    "        return False\n",
    "    return True"
   ]
  },
  {
   "cell_type": "code",
   "execution_count": 9,
   "metadata": {},
   "outputs": [],
   "source": [
    "def remove_arabic_abstrcats_duplicates(abstracts):\n",
    "    unique_abstracts = []\n",
    "    for abstract in abstracts:\n",
    "        if abstract['original_abstract'] in [unique_abstract['original_abstract'] for unique_abstract in unique_abstracts]:\n",
    "            continue\n",
    "        unique_abstracts.append(abstract)\n",
    "    return unique_abstracts"
   ]
  },
  {
   "cell_type": "code",
   "execution_count": 10,
   "metadata": {},
   "outputs": [],
   "source": [
    "def get_common_abstracts(abstracts):\n",
    "    # Create a set of original_abstracts that exist in all models\n",
    "    common_originals = {}\n",
    "    for model_abstracts in abstracts.values():\n",
    "        original_abstracts = {abstract['original_abstract'] for abstract in model_abstracts}\n",
    "        if not common_originals:\n",
    "            common_originals = set(original_abstracts)\n",
    "        else:\n",
    "            common_originals = set.intersection(common_originals, original_abstracts)\n",
    "    \n",
    "    # Find intersection of all sets to get common original abstracts\n",
    "    # common_originals = set.intersection(*original_abstracts_sets)\n",
    "    \n",
    "    # Filter abstracts to only include those with common original abstracts\n",
    "    filtered_abstracts = {}\n",
    "    for model_name, model_abstracts in abstracts.items():\n",
    "        filtered_abstracts[model_name] = [\n",
    "            abstract for abstract in model_abstracts \n",
    "            if abstract['original_abstract'] in common_originals\n",
    "        ]\n",
    "    \n",
    "    return filtered_abstracts\n"
   ]
  },
  {
   "cell_type": "markdown",
   "metadata": {},
   "source": [
    "## Descriptive statistics calculation"
   ]
  },
  {
   "cell_type": "code",
   "execution_count": 11,
   "metadata": {},
   "outputs": [],
   "source": [
    "import re\n",
    "import pandas as pd\n",
    "import numpy as np\n",
    "\n",
    "def get_text_statistics(text):\n",
    "    \"\"\"Calculate word, sentence, and sentence length statistics for a given text.\"\"\"\n",
    "    # Clean text\n",
    "    text = text.strip()\n",
    "    \n",
    "    # Split into sentences (handle multiple punctuation marks)\n",
    "    sentences = [s.strip() for s in re.split(r'[.!?]+', text) if s.strip()]\n",
    "    \n",
    "    # Get word counts for each sentence\n",
    "    sentence_word_counts = [len(s.split()) for s in sentences]\n",
    "    \n",
    "    stats = {\n",
    "        'word_count': sum(sentence_word_counts),\n",
    "        'sentence_count': len(sentences),\n",
    "        'avg_sentence_length': np.mean(sentence_word_counts) if sentence_word_counts else 0,\n",
    "        'min_sentence_length': min(sentence_word_counts) if sentence_word_counts else 0,\n",
    "        'max_sentence_length': max(sentence_word_counts) if sentence_word_counts else 0\n",
    "    }\n",
    "    \n",
    "    return stats\n",
    "\n",
    "def calculate_descriptive_statistics(filtered_abstracts):\n",
    "    \"\"\"Analyze and compare original and generated abstracts across models.\"\"\"\n",
    "    results = {}\n",
    "    \n",
    "    # First, analyze original abstracts (should be same across models)\n",
    "    original_stats = []\n",
    "    first_model = next(iter(filtered_abstracts.values()))\n",
    "    for item in first_model:\n",
    "        original_stats.append(get_text_statistics(item['original_abstract']))\n",
    "    \n",
    "    # Calculate original abstract statistics\n",
    "    orig_df = pd.DataFrame(original_stats)\n",
    "    results['original'] = {\n",
    "        'word_count': {\n",
    "            'min': orig_df['word_count'].min(),\n",
    "            'max': orig_df['word_count'].max(),\n",
    "            'avg': orig_df['word_count'].mean()\n",
    "        },\n",
    "        'sentence_count': {\n",
    "            'min': orig_df['sentence_count'].min(),\n",
    "            'max': orig_df['sentence_count'].max(),\n",
    "            'avg': orig_df['sentence_count'].mean()\n",
    "        },\n",
    "        'sentence_length': {\n",
    "            'min': orig_df['min_sentence_length'].min(),\n",
    "            'max': orig_df['max_sentence_length'].max(),\n",
    "            'avg': orig_df['avg_sentence_length'].mean()\n",
    "        }\n",
    "    }\n",
    "    \n",
    "    # Analyze generated abstracts for each model\n",
    "    results['generated'] = {}\n",
    "    for model_name, abstracts in filtered_abstracts.items():\n",
    "        generated_stats = []\n",
    "        for item in abstracts:\n",
    "            generated_stats.append(get_text_statistics(item['generated_abstract']))\n",
    "        \n",
    "        gen_df = pd.DataFrame(generated_stats)\n",
    "        results['generated'][model_name] = {\n",
    "            'word_count': {\n",
    "                'min': gen_df['word_count'].min(),\n",
    "                'max': gen_df['word_count'].max(),\n",
    "                'avg': gen_df['word_count'].mean()\n",
    "            },\n",
    "            'sentence_count': {\n",
    "                'min': gen_df['sentence_count'].min(),\n",
    "                'max': gen_df['sentence_count'].max(),\n",
    "                'avg': gen_df['sentence_count'].mean()\n",
    "            },\n",
    "            'sentence_length': {\n",
    "                'min': gen_df['min_sentence_length'].min(),\n",
    "                'max': gen_df['max_sentence_length'].max(),\n",
    "                'avg': gen_df['avg_sentence_length'].mean()\n",
    "            }\n",
    "        }\n",
    "    \n",
    "    return results\n",
    "\n",
    "def print_discriptive_statistics_comparision(results):\n",
    "    \"\"\"Print a formatted comparison of the analysis results.\"\"\"\n",
    "    # Print original abstract statistics\n",
    "    print(\"Original Abstract Statistics:\")\n",
    "    print(\"=\" * 60)\n",
    "    orig_stats = results['original']\n",
    "    \n",
    "    for metric, values in orig_stats.items():\n",
    "        print(f\"\\n{metric.replace('_', ' ').title()}:\")\n",
    "        print(f\"  Min: {values['min']:.1f}\")\n",
    "        print(f\"  Max: {values['max']:.1f}\")\n",
    "        print(f\"  Avg: {values['avg']:.1f}\")\n",
    "    \n",
    "    # Print generated abstract statistics for each model\n",
    "    print(\"\\nGenerated Abstract Statistics:\")\n",
    "    print(\"=\" * 60)\n",
    "    \n",
    "    for model_name, stats in results['generated'].items():\n",
    "        print(f\"\\n{model_name}:\")\n",
    "        print(\"-\" * 40)\n",
    "        \n",
    "        for metric, values in stats.items():\n",
    "            print(f\"\\n{metric.replace('_', ' ').title()}:\")\n",
    "            orig_values = orig_stats[metric]\n",
    "            \n",
    "            print(f\"  Min: {values['min']:.1f} (Δ: {values['min'] - orig_values['min']:+.1f})\")\n",
    "            print(f\"  Max: {values['max']:.1f} (Δ: {values['max'] - orig_values['max']:+.1f})\")\n",
    "            print(f\"  Avg: {values['avg']:.1f} (Δ: {values['avg'] - orig_values['avg']:+.1f})\")"
   ]
  },
  {
   "cell_type": "code",
   "execution_count": 12,
   "metadata": {},
   "outputs": [],
   "source": [
    "# save abstracts list as jsonl file\n",
    "def save_jsonl(abstracts, filename):\n",
    "    try:\n",
    "        with open(filename, 'w', encoding='utf-8') as file:\n",
    "            for abstract in abstracts:\n",
    "                file.write(json.dumps(abstract, ensure_ascii=False) + '\\n')\n",
    "    except IOError as e:\n",
    "        print(f\"Error writing file: {e}\")\n",
    "    except json.JSONEncodeError as e:\n",
    "        print(f\"Error encoding JSON: {e}\")"
   ]
  },
  {
   "cell_type": "markdown",
   "metadata": {},
   "source": [
    "## From title abstracts"
   ]
  },
  {
   "cell_type": "code",
   "execution_count": 13,
   "metadata": {},
   "outputs": [],
   "source": [
    "abstracts = dict(\n",
    "    allam = read_jsonl('generated_arabic_datasets/allam/arabic_abstracts_dataset/from_title_abstracts_generation.jsonl'),\n",
    "    openai = read_jsonl('generated_arabic_datasets/openai/arabic_abstracts_dataset/from_title_abstracts_generation.jsonl'),\n",
    "    # claude = read_jsonl('generated_arabic_datasets/claude/arabic_abstracts_dataset/from_title_abstracts_generation.jsonl'),\n",
    "    jais = read_jsonl('generated_arabic_datasets/jais-batched/arabic_abstracts_dataset/from_title_abstracts_generation.jsonl'),\n",
    "    llama = read_jsonl('generated_arabic_datasets/llama-batched/arabic_abstracts_dataset/from_title_abstracts_generation.jsonl')\n",
    ")"
   ]
  },
  {
   "cell_type": "code",
   "execution_count": 14,
   "metadata": {},
   "outputs": [
    {
     "data": {
      "text/plain": [
       "(3000, 3000, 3000, 3000)"
      ]
     },
     "execution_count": 14,
     "metadata": {},
     "output_type": "execute_result"
    }
   ],
   "source": [
    "len(abstracts['allam']), len(abstracts['jais']), len(abstracts['llama']), len(abstracts['openai'])"
   ]
  },
  {
   "cell_type": "code",
   "execution_count": 15,
   "metadata": {},
   "outputs": [],
   "source": [
    "filtered_abstracts = {}"
   ]
  },
  {
   "cell_type": "code",
   "execution_count": 16,
   "metadata": {},
   "outputs": [
    {
     "data": {
      "text/plain": [
       "(2995, 2995, 2995, 2995)"
      ]
     },
     "execution_count": 16,
     "metadata": {},
     "output_type": "execute_result"
    }
   ],
   "source": [
    "for model_name, model_abstracts in abstracts.items():\n",
    "    filtered_abstracts[model_name] = remove_arabic_abstrcats_duplicates(model_abstracts)\n",
    "len(filtered_abstracts['allam']), len(filtered_abstracts['jais']), len(filtered_abstracts['llama']), len(filtered_abstracts['openai'])"
   ]
  },
  {
   "cell_type": "markdown",
   "metadata": {},
   "source": [
    "filter abstracts"
   ]
  },
  {
   "cell_type": "code",
   "execution_count": 17,
   "metadata": {},
   "outputs": [
    {
     "data": {
      "text/plain": [
       "(2991, 2976, 2986, 2991)"
      ]
     },
     "execution_count": 17,
     "metadata": {},
     "output_type": "execute_result"
    }
   ],
   "source": [
    "for model_name, abstracts in filtered_abstracts.items():\n",
    "    filtered_abstracts[model_name] = []\n",
    "    for abstract in abstracts:\n",
    "        if is_valid_abstract(abstract):\n",
    "            filtered_abstracts[model_name].append(abstract)\n",
    "len(filtered_abstracts['allam']), len(filtered_abstracts['jais']), len(filtered_abstracts['llama']), len(filtered_abstracts['openai'])"
   ]
  },
  {
   "cell_type": "code",
   "execution_count": 18,
   "metadata": {},
   "outputs": [],
   "source": [
    "filtered_abstracts = get_common_abstracts(filtered_abstracts)"
   ]
  },
  {
   "cell_type": "code",
   "execution_count": 19,
   "metadata": {},
   "outputs": [
    {
     "data": {
      "text/plain": [
       "(2963, 2963, 2963, 2963)"
      ]
     },
     "execution_count": 19,
     "metadata": {},
     "output_type": "execute_result"
    }
   ],
   "source": [
    "len(filtered_abstracts['allam']), len(filtered_abstracts['jais']), len(filtered_abstracts['llama']), len(filtered_abstracts['openai'])"
   ]
  },
  {
   "cell_type": "code",
   "execution_count": 20,
   "metadata": {},
   "outputs": [
    {
     "data": {
      "text/plain": [
       "(2963, 2963, 2963, 2963)"
      ]
     },
     "execution_count": 20,
     "metadata": {},
     "output_type": "execute_result"
    }
   ],
   "source": [
    "for model_name, model_abstracts in filtered_abstracts.items():\n",
    "    filtered_abstracts[model_name] = remove_arabic_abstrcats_duplicates(model_abstracts)\n",
    "len(filtered_abstracts['allam']), len(filtered_abstracts['jais']), len(filtered_abstracts['llama']), len(filtered_abstracts['openai'])"
   ]
  },
  {
   "cell_type": "code",
   "execution_count": 21,
   "metadata": {},
   "outputs": [
    {
     "data": {
      "text/plain": [
       "(2963, 2963, 2963, 2963)"
      ]
     },
     "execution_count": 21,
     "metadata": {},
     "output_type": "execute_result"
    }
   ],
   "source": [
    "len(filtered_abstracts['allam']), len(filtered_abstracts['jais']), len(filtered_abstracts['llama']), len(filtered_abstracts['openai'])"
   ]
  },
  {
   "cell_type": "code",
   "execution_count": 22,
   "metadata": {},
   "outputs": [
    {
     "data": {
      "text/plain": [
       "(['\"غني عن القول أنّ القرآن من هذه النّاحية حجاج صرف، لا لكونه خطابا حواريًّا فحسب، وإنّما لأنّه يدعو بصريح اللّفظ إلى نبذ العنف في شأن الإيمان، وهو ما يقتضي أنّه حوار وحجاج\" قدور عمران. البعد التّداولي في الخطاب القرآني إسرائيل\"الحكمة الإلهيّة في اختيار المعجزة من جنس ما اشتهر بين القوم هي أنّ الإنسان إذا أوتي من قِبل ما يعتبره مفخرته ومجال إجادته واعتزازه تكون الحجّة عليه أقوى والمعجز أكثر فعلا وأثرا\". مصطفى مسلم. مباحث في إعجاز القرآن.',\n",
       "  '(علم النص) آخر ما توصلت إليه اللسانيات الغربية المعاصرة، به انتقل البحث اللساني من نحو الجملة إلى نحو النص، وأصبح التحليل النصي للخطاب قائما على نظام الوحدة الموضوعية أو البنية الكبرى، وبها ترتبط الوحدات أو البنى الصغرى في النص..وقد أقام (علم النص) جملة من المعايير يحكم بها على نصية أو نصانية النص، ويزعم أصحاب هذا الفن أن لهم السبق فيما توصلوا إليه. فإن كان زعمهم يصدق عندهم في الغرب، فهل سبقوا حقا العرب في ذلك. وللإجابة عن هذا السؤال تأتي هذه المقاربة لواحد من العلوم الكثيرة عند العرب والمسلمين، هو التفسير الموضوعي للسورة القرآنية...',\n",
       "  '.الاهتمام بالمخطوط العقدي والكلامي في المغرب العربي والشمال الإفريقي.. له أهمية كبيرة في معرفة ماهية هذه المخطوطات وأهميتها، فهي دليل مادي ملموس لشرح حيثيات الدرس العقدي والكلامي والفلسفي.. والتعريف بأهم الأعلام والمؤلفات التي كانت لها الحظوة في زمان المخطوط، كما يبين أيضا أهم القضايا والإشكالات التي كانت تشغل الفكر العقدي الكلامي والفلسفي.. أنداك.وفي هذا البحث ذكر للمخطوط المذكور أعلاه ، وهو عبارة عن دراسة لمسألة \"بعث الأجسام\" وإشكالاتها الكلامية في الغرب الإسلامي في نهاية القرن الثامن وبداية القرن القرن التاسع الهجري، لأحد أبرز علماء هذه الفترة، وهو أبو القاسم ابن مخلص السبتي ( كان حيّاً 812 هـ) رحمه الله تعالى.',\n",
       "  '.تهدف الدراسة إلى التعرف على أثر التدريب المدمج على تنمية مهارات التمرير الطويل و المراوغة لدى براعم كرة القدم بولاية أم البواقي، وتم استخدام المنهج التجريبي، وتم إختيار عينة الدراسة بطريقة عمدية وتكونت من 36 لاعبا تم تقسيمهم إلى مجموعتين إحداهما تجريبية و الأخرى ضابطة ضمت كل منهما 18 لاعبا من فريقي إتحاد عين البيضاء و شباب الضلعة لكرة القدم ، وتم الاعتماد على الاختبارات المهارية، وتوصلنا إلى وجود أثر إيجابي لطريقة التدريب المدمج على تنمية المتغيرات المهارية ( التمرير الطويل ، المراوغة ) في كرة القدم، وقد أوصت الدراسة بضرورة الاهتمام أكثر بالصفات المهارية مستقبلا لأنها سر النجاح والتفوق.',\n",
       "  '.ملخص الدراسة. في ظل المتغيرات التي شهدها العالم والتي أدت إلى تحولات في العديد من المجالات الاقتصادية والاجتماعية، وظهور مفاهيم جديدة على غرار اقتصاد السوق والمناداة بإعطاء القطاع الخاص نصيبا ودورا في التنمية الشاملة والتي في مقدمتها التربية والتعليم، سعت الجزائر إلى إصلاح منظومتها التربوية من خلال القانون رقم 08_04، المتضمن القانون التوجيهي للتربية الوطنية، المعدل والمتمم، وذلك لمنح المبادرات الفردية دورها في النهوض بالتنمية البشرية وتحسين جودة التعليم، وفي الوقت ذاته تخفيف العبء على وزارة التربية الوطنية. وباعتبار أن الاستثمار في مرفق التعليم حديث نسبيا ويختلف تماما عن الاستثمار في قطاعات أخرى، فإن الدراسة كشفت أن مؤسسات التربية والتعليم الخاصة قد لقيت صعوبات خاصة في بداية مشوارها وذلك لنقص خبرتها وتجربتها، وهي اليوم _بمثل حاجة الدولة إليها_ تحتاج إلى خبرة وكفاءة القطاع العمومي لتحسين أدائها وتطوير نشاطها، ولا يتم ذلك إلا من خلال توفير مناخ قانوني واجتماعي وسياسي مناسب، وتوطيد علاقتها بمؤسسات التربية والتعليم العمومية لتبادل الخبرات والكفاءات. الكلمات المفتاحية: القطاع الخاص_ مؤسسات التربية والتعليم الخاصة_ الاستثمار في مرفق التربية والتعليم.'],\n",
       " ['يُعنى هذا البحث ببيان قاعدة أو نظرية \"الضرورة\"، واستخراج تطبيقات مالكية الجزائر وما جاورها من خلال كتاب \"الدرر المكنونة في نوازل مازونة\" في مختلف الأبواب الفقهية؛ كون الضرورة تدخل تحتها قواعد أصولية وفقهية كثيرة.وقد أسفرت نتائج البحث إلى أنّ علماء النوازل المالكية قد زاوجوا بين العقل والنقل، وبين التنظير والتطبيق، وبين القواعد الفقهية والقواعد الأصولية، وقد ظهر ذلك جليا في الفتاوى والنوازل التي جمعها أبو زكريا يحي بن موسى المازوني رحمه الله تعالى، حيث أعملوا قواعد التيسير ورفع الحرج ودفع المشقة على الناس، دون الخروج عن قواعد الشرع وأدلته، ومنه قاعدة الضرورة والحاجة، فكانت الفتوى بها في مواطن كثيرة من هذه الموسوعة، وقد اخترت نماذج من العبادات والمعاملات، بعدما وضعت نبذة مختصرة عن الدرر المكنونة في نوازل مازونة، ثم عرفت الضرورة، وذكرت شروطها، وبعض القواعد التي لها علاقة بها.كلمات مفتاحية: الضرورة؛ النوازل؛ مازونة.',\n",
       "  'يُعَدُّ نشاط التعبير من أبرز ما يقف عنده المعلم في تعليم العربية ، وعلومها؛ ولا شك أنّ ما يميّزُ تلك التقنية_ أوذلك النشاط_ أنها المدخل إلى المعرفة باللغة وعلومها، ومن هذا المنطلق ارتأينا في هذه المداخلة أنْ نقف عند بنية التعبير في اللغة العربية من حيث وقوع هذه البنية في مفترق مفهومين متداخلين ، ومختلفين بعض الشيء، ومع ذلك فيمكننا أن نضع للتعبير بنية ، وستكون مبررات البحث كامنة في البحث عن تلك البنية من منطلق التعليم والتدريس، وكون أحدهما أشمل من الآخر في تحديد خصوصية بنية التعبير، وسيكون حظنا في تحليل البنية نظريا أكثر منه تطبيقيا ، وسيكون للآراء المختلفة المستشهد بها في التحليل؛ ركيزة لبناء مفهوم للتعبير من منطلق البنية وشروطها..',\n",
       "  'ُلَخَّصُ الْبَحْثِ:يُحَاوِلُ الْمَقَالُ أَنْ يُبَيِّنَ كَيْفِيَّةَ إِسْهَامِ الْإِحَالَةِ بِنَوْعَيْهَا الضَّمِيرِيَّةِ وَالْإِشَارِيَّةِ فِي اتِّسَاقِ الْخِطَابِ الْقُرْآنِيِّ، سَوَاءٌ كَانَتْ إِحَالَةً لُغَوِيَّةً أَمْ غَيْرَ لُغَوِيَّةٍ؛ إِذْ يَتَحَمَّلُ الْعَائِدُ صُوَرَ الْإِحَالَةِ الْمُمْكِنَةِ، فَيَرْبِطُ بَيْنَ الْكَلِمَاتِ فِي الْآيَةِ الْوَاحِدَةِ فَيُحِيلُ عَلَى جُزْءٍ يُمْكِنُ وَسْمُهُ شَكْلًا. وَهِيَ إِحَالَةٌ جُزْئِيَّةٌ لَا تَمْنَعُ الضَّمِيرَ مِنْ أَنْ يُحِيلَ أَحْيَانًا عَلَى مَا لَا يُمْكِنُ وَسْمُهُ شَكْلًا، فَيَخْرُجُ إِلَى إِحَالَةٍ مُوَسَّعَةٍ، تَتَعَدَّى الْعُنْصُرَ وَالْجُمْلَةَ إِلَى الْإِحَالَةِ عَلَى خِطَابٍ بِرُمَّتِهِ. أَمَّا غُمُوضُ الْإِحَالَةِ وَعَدَمُ وُضُوحِ الْعَائِدِ فِيهَا فَإِنَّ تَسْوِيقَهَا هُوَ الصَّائِرُ إِلَيْهِ، وَهُوَ مَا تُمَثِّلُهُ أَسْبَابُ النُّزُولِ.',\n",
       "  'ِتكنولوجيا المعلومات الحديثة دورا رئيسيا في إحداث التحولات المختلفة في العمل الإداري، حيث ساهمت في تطوير الكثير من مراحل العمل الإداري وتطوير أساليبه وتوفير المعلومات في الوقت المناسب وبأقل وتكلفة، إنها العديد من المزايا التي تمنحها تكنولوجيا المعلومات الحديثة للعمل الإداري من خلال تطبيق الإدارة الالكترونية صبغة الجودة على أعمال ونشاطات المؤسسة المختلفة، الأمر الذي بدوره يمكنها من تحسين أدائها وتحقيق الجودة بشكل أفضل. وفي هذا المقال نهدف إلى التعرف على مدى مساهمة الإدارة الالكترونية في تطوير العمل الإداري بمؤسسات التعليم العالي في الجزائر. ولتحقيق ذلك صيغت أربع فرضيات، اختبرت بواسطة مجموعة من الأساليب الإحصائية، واستخدمت الاستبانة كأداة رئيسة لجمع البيانات والمعلومات من عينة الدراسة. النتائج المتحصل عليها تشير إلى وجود علاقات ارتباط دالة وموجبة بين أبعاد الإدارة الالكترونية بشكل منفرد، مع أبعاد العمل الإداري مجتمعة..',\n",
       "  'یكاد يخلو مجتمع من المجتمعات لا یتحدث فیه الناس عن التطرف، وأسبابه، وطرق معالجته، نظرًا لانتشاره وتغلغله فى المجتمع خاصة العربى، وازدیاد خطورته على الفرد والمجتمع, وقد حدث جدال كبیر حول دور وسائل الإعلام فى العمل على زیادة عدد المتطرفین والملتحقین بصفوف الإرهاب، وحملوها مسئولیة كبرى فى تزیین التطرف فى نفوس الناس، وتبالغ فى وصف التطرف، وكأنها ترفع من شأن المتطرفين، مما یزعزع الثقة بقیم وعقیدة المجتمع, لذا سنحاول من خلال هذه الورقة العلمیة أن نضع بصمات فى تأثیر الإعلام فى زیادة التطرف فى المجتمع، وبصیغة إعلامیة لوضع القارئ فى الصورة التى یعالج من خلالها الإعلام التطرف.الكلمات المفتاحية: التطرف, الإعلام, الوقاية, اشكالية العلاقة.'])"
      ]
     },
     "execution_count": 22,
     "metadata": {},
     "output_type": "execute_result"
    }
   ],
   "source": [
    "sorted([abstract['original_abstract'] for abstract in filtered_abstracts['allam']])[:5],sorted([abstract['original_abstract'] for abstract in filtered_abstracts['allam']])[-5:]"
   ]
  },
  {
   "cell_type": "code",
   "execution_count": 23,
   "metadata": {},
   "outputs": [
    {
     "data": {
      "text/plain": [
       "(['\"غني عن القول أنّ القرآن من هذه النّاحية حجاج صرف، لا لكونه خطابا حواريًّا فحسب، وإنّما لأنّه يدعو بصريح اللّفظ إلى نبذ العنف في شأن الإيمان، وهو ما يقتضي أنّه حوار وحجاج\" قدور عمران. البعد التّداولي في الخطاب القرآني إسرائيل\"الحكمة الإلهيّة في اختيار المعجزة من جنس ما اشتهر بين القوم هي أنّ الإنسان إذا أوتي من قِبل ما يعتبره مفخرته ومجال إجادته واعتزازه تكون الحجّة عليه أقوى والمعجز أكثر فعلا وأثرا\". مصطفى مسلم. مباحث في إعجاز القرآن.',\n",
       "  '(علم النص) آخر ما توصلت إليه اللسانيات الغربية المعاصرة، به انتقل البحث اللساني من نحو الجملة إلى نحو النص، وأصبح التحليل النصي للخطاب قائما على نظام الوحدة الموضوعية أو البنية الكبرى، وبها ترتبط الوحدات أو البنى الصغرى في النص..وقد أقام (علم النص) جملة من المعايير يحكم بها على نصية أو نصانية النص، ويزعم أصحاب هذا الفن أن لهم السبق فيما توصلوا إليه. فإن كان زعمهم يصدق عندهم في الغرب، فهل سبقوا حقا العرب في ذلك. وللإجابة عن هذا السؤال تأتي هذه المقاربة لواحد من العلوم الكثيرة عند العرب والمسلمين، هو التفسير الموضوعي للسورة القرآنية...',\n",
       "  '.الاهتمام بالمخطوط العقدي والكلامي في المغرب العربي والشمال الإفريقي.. له أهمية كبيرة في معرفة ماهية هذه المخطوطات وأهميتها، فهي دليل مادي ملموس لشرح حيثيات الدرس العقدي والكلامي والفلسفي.. والتعريف بأهم الأعلام والمؤلفات التي كانت لها الحظوة في زمان المخطوط، كما يبين أيضا أهم القضايا والإشكالات التي كانت تشغل الفكر العقدي الكلامي والفلسفي.. أنداك.وفي هذا البحث ذكر للمخطوط المذكور أعلاه ، وهو عبارة عن دراسة لمسألة \"بعث الأجسام\" وإشكالاتها الكلامية في الغرب الإسلامي في نهاية القرن الثامن وبداية القرن القرن التاسع الهجري، لأحد أبرز علماء هذه الفترة، وهو أبو القاسم ابن مخلص السبتي ( كان حيّاً 812 هـ) رحمه الله تعالى.',\n",
       "  '.تهدف الدراسة إلى التعرف على أثر التدريب المدمج على تنمية مهارات التمرير الطويل و المراوغة لدى براعم كرة القدم بولاية أم البواقي، وتم استخدام المنهج التجريبي، وتم إختيار عينة الدراسة بطريقة عمدية وتكونت من 36 لاعبا تم تقسيمهم إلى مجموعتين إحداهما تجريبية و الأخرى ضابطة ضمت كل منهما 18 لاعبا من فريقي إتحاد عين البيضاء و شباب الضلعة لكرة القدم ، وتم الاعتماد على الاختبارات المهارية، وتوصلنا إلى وجود أثر إيجابي لطريقة التدريب المدمج على تنمية المتغيرات المهارية ( التمرير الطويل ، المراوغة ) في كرة القدم، وقد أوصت الدراسة بضرورة الاهتمام أكثر بالصفات المهارية مستقبلا لأنها سر النجاح والتفوق.',\n",
       "  '.ملخص الدراسة. في ظل المتغيرات التي شهدها العالم والتي أدت إلى تحولات في العديد من المجالات الاقتصادية والاجتماعية، وظهور مفاهيم جديدة على غرار اقتصاد السوق والمناداة بإعطاء القطاع الخاص نصيبا ودورا في التنمية الشاملة والتي في مقدمتها التربية والتعليم، سعت الجزائر إلى إصلاح منظومتها التربوية من خلال القانون رقم 08_04، المتضمن القانون التوجيهي للتربية الوطنية، المعدل والمتمم، وذلك لمنح المبادرات الفردية دورها في النهوض بالتنمية البشرية وتحسين جودة التعليم، وفي الوقت ذاته تخفيف العبء على وزارة التربية الوطنية. وباعتبار أن الاستثمار في مرفق التعليم حديث نسبيا ويختلف تماما عن الاستثمار في قطاعات أخرى، فإن الدراسة كشفت أن مؤسسات التربية والتعليم الخاصة قد لقيت صعوبات خاصة في بداية مشوارها وذلك لنقص خبرتها وتجربتها، وهي اليوم _بمثل حاجة الدولة إليها_ تحتاج إلى خبرة وكفاءة القطاع العمومي لتحسين أدائها وتطوير نشاطها، ولا يتم ذلك إلا من خلال توفير مناخ قانوني واجتماعي وسياسي مناسب، وتوطيد علاقتها بمؤسسات التربية والتعليم العمومية لتبادل الخبرات والكفاءات. الكلمات المفتاحية: القطاع الخاص_ مؤسسات التربية والتعليم الخاصة_ الاستثمار في مرفق التربية والتعليم.'],\n",
       " ['يُعنى هذا البحث ببيان قاعدة أو نظرية \"الضرورة\"، واستخراج تطبيقات مالكية الجزائر وما جاورها من خلال كتاب \"الدرر المكنونة في نوازل مازونة\" في مختلف الأبواب الفقهية؛ كون الضرورة تدخل تحتها قواعد أصولية وفقهية كثيرة.وقد أسفرت نتائج البحث إلى أنّ علماء النوازل المالكية قد زاوجوا بين العقل والنقل، وبين التنظير والتطبيق، وبين القواعد الفقهية والقواعد الأصولية، وقد ظهر ذلك جليا في الفتاوى والنوازل التي جمعها أبو زكريا يحي بن موسى المازوني رحمه الله تعالى، حيث أعملوا قواعد التيسير ورفع الحرج ودفع المشقة على الناس، دون الخروج عن قواعد الشرع وأدلته، ومنه قاعدة الضرورة والحاجة، فكانت الفتوى بها في مواطن كثيرة من هذه الموسوعة، وقد اخترت نماذج من العبادات والمعاملات، بعدما وضعت نبذة مختصرة عن الدرر المكنونة في نوازل مازونة، ثم عرفت الضرورة، وذكرت شروطها، وبعض القواعد التي لها علاقة بها.كلمات مفتاحية: الضرورة؛ النوازل؛ مازونة.',\n",
       "  'يُعَدُّ نشاط التعبير من أبرز ما يقف عنده المعلم في تعليم العربية ، وعلومها؛ ولا شك أنّ ما يميّزُ تلك التقنية_ أوذلك النشاط_ أنها المدخل إلى المعرفة باللغة وعلومها، ومن هذا المنطلق ارتأينا في هذه المداخلة أنْ نقف عند بنية التعبير في اللغة العربية من حيث وقوع هذه البنية في مفترق مفهومين متداخلين ، ومختلفين بعض الشيء، ومع ذلك فيمكننا أن نضع للتعبير بنية ، وستكون مبررات البحث كامنة في البحث عن تلك البنية من منطلق التعليم والتدريس، وكون أحدهما أشمل من الآخر في تحديد خصوصية بنية التعبير، وسيكون حظنا في تحليل البنية نظريا أكثر منه تطبيقيا ، وسيكون للآراء المختلفة المستشهد بها في التحليل؛ ركيزة لبناء مفهوم للتعبير من منطلق البنية وشروطها..',\n",
       "  'ُلَخَّصُ الْبَحْثِ:يُحَاوِلُ الْمَقَالُ أَنْ يُبَيِّنَ كَيْفِيَّةَ إِسْهَامِ الْإِحَالَةِ بِنَوْعَيْهَا الضَّمِيرِيَّةِ وَالْإِشَارِيَّةِ فِي اتِّسَاقِ الْخِطَابِ الْقُرْآنِيِّ، سَوَاءٌ كَانَتْ إِحَالَةً لُغَوِيَّةً أَمْ غَيْرَ لُغَوِيَّةٍ؛ إِذْ يَتَحَمَّلُ الْعَائِدُ صُوَرَ الْإِحَالَةِ الْمُمْكِنَةِ، فَيَرْبِطُ بَيْنَ الْكَلِمَاتِ فِي الْآيَةِ الْوَاحِدَةِ فَيُحِيلُ عَلَى جُزْءٍ يُمْكِنُ وَسْمُهُ شَكْلًا. وَهِيَ إِحَالَةٌ جُزْئِيَّةٌ لَا تَمْنَعُ الضَّمِيرَ مِنْ أَنْ يُحِيلَ أَحْيَانًا عَلَى مَا لَا يُمْكِنُ وَسْمُهُ شَكْلًا، فَيَخْرُجُ إِلَى إِحَالَةٍ مُوَسَّعَةٍ، تَتَعَدَّى الْعُنْصُرَ وَالْجُمْلَةَ إِلَى الْإِحَالَةِ عَلَى خِطَابٍ بِرُمَّتِهِ. أَمَّا غُمُوضُ الْإِحَالَةِ وَعَدَمُ وُضُوحِ الْعَائِدِ فِيهَا فَإِنَّ تَسْوِيقَهَا هُوَ الصَّائِرُ إِلَيْهِ، وَهُوَ مَا تُمَثِّلُهُ أَسْبَابُ النُّزُولِ.',\n",
       "  'ِتكنولوجيا المعلومات الحديثة دورا رئيسيا في إحداث التحولات المختلفة في العمل الإداري، حيث ساهمت في تطوير الكثير من مراحل العمل الإداري وتطوير أساليبه وتوفير المعلومات في الوقت المناسب وبأقل وتكلفة، إنها العديد من المزايا التي تمنحها تكنولوجيا المعلومات الحديثة للعمل الإداري من خلال تطبيق الإدارة الالكترونية صبغة الجودة على أعمال ونشاطات المؤسسة المختلفة، الأمر الذي بدوره يمكنها من تحسين أدائها وتحقيق الجودة بشكل أفضل. وفي هذا المقال نهدف إلى التعرف على مدى مساهمة الإدارة الالكترونية في تطوير العمل الإداري بمؤسسات التعليم العالي في الجزائر. ولتحقيق ذلك صيغت أربع فرضيات، اختبرت بواسطة مجموعة من الأساليب الإحصائية، واستخدمت الاستبانة كأداة رئيسة لجمع البيانات والمعلومات من عينة الدراسة. النتائج المتحصل عليها تشير إلى وجود علاقات ارتباط دالة وموجبة بين أبعاد الإدارة الالكترونية بشكل منفرد، مع أبعاد العمل الإداري مجتمعة..',\n",
       "  'یكاد يخلو مجتمع من المجتمعات لا یتحدث فیه الناس عن التطرف، وأسبابه، وطرق معالجته، نظرًا لانتشاره وتغلغله فى المجتمع خاصة العربى، وازدیاد خطورته على الفرد والمجتمع, وقد حدث جدال كبیر حول دور وسائل الإعلام فى العمل على زیادة عدد المتطرفین والملتحقین بصفوف الإرهاب، وحملوها مسئولیة كبرى فى تزیین التطرف فى نفوس الناس، وتبالغ فى وصف التطرف، وكأنها ترفع من شأن المتطرفين، مما یزعزع الثقة بقیم وعقیدة المجتمع, لذا سنحاول من خلال هذه الورقة العلمیة أن نضع بصمات فى تأثیر الإعلام فى زیادة التطرف فى المجتمع، وبصیغة إعلامیة لوضع القارئ فى الصورة التى یعالج من خلالها الإعلام التطرف.الكلمات المفتاحية: التطرف, الإعلام, الوقاية, اشكالية العلاقة.'])"
      ]
     },
     "execution_count": 23,
     "metadata": {},
     "output_type": "execute_result"
    }
   ],
   "source": [
    "sorted([abstract['original_abstract'] for abstract in filtered_abstracts['jais']])[:5],sorted([abstract['original_abstract'] for abstract in filtered_abstracts['jais']])[-5:]"
   ]
  },
  {
   "cell_type": "code",
   "execution_count": 24,
   "metadata": {},
   "outputs": [
    {
     "data": {
      "text/plain": [
       "(['\"غني عن القول أنّ القرآن من هذه النّاحية حجاج صرف، لا لكونه خطابا حواريًّا فحسب، وإنّما لأنّه يدعو بصريح اللّفظ إلى نبذ العنف في شأن الإيمان، وهو ما يقتضي أنّه حوار وحجاج\" قدور عمران. البعد التّداولي في الخطاب القرآني إسرائيل\"الحكمة الإلهيّة في اختيار المعجزة من جنس ما اشتهر بين القوم هي أنّ الإنسان إذا أوتي من قِبل ما يعتبره مفخرته ومجال إجادته واعتزازه تكون الحجّة عليه أقوى والمعجز أكثر فعلا وأثرا\". مصطفى مسلم. مباحث في إعجاز القرآن.',\n",
       "  '(علم النص) آخر ما توصلت إليه اللسانيات الغربية المعاصرة، به انتقل البحث اللساني من نحو الجملة إلى نحو النص، وأصبح التحليل النصي للخطاب قائما على نظام الوحدة الموضوعية أو البنية الكبرى، وبها ترتبط الوحدات أو البنى الصغرى في النص..وقد أقام (علم النص) جملة من المعايير يحكم بها على نصية أو نصانية النص، ويزعم أصحاب هذا الفن أن لهم السبق فيما توصلوا إليه. فإن كان زعمهم يصدق عندهم في الغرب، فهل سبقوا حقا العرب في ذلك. وللإجابة عن هذا السؤال تأتي هذه المقاربة لواحد من العلوم الكثيرة عند العرب والمسلمين، هو التفسير الموضوعي للسورة القرآنية...',\n",
       "  '.الاهتمام بالمخطوط العقدي والكلامي في المغرب العربي والشمال الإفريقي.. له أهمية كبيرة في معرفة ماهية هذه المخطوطات وأهميتها، فهي دليل مادي ملموس لشرح حيثيات الدرس العقدي والكلامي والفلسفي.. والتعريف بأهم الأعلام والمؤلفات التي كانت لها الحظوة في زمان المخطوط، كما يبين أيضا أهم القضايا والإشكالات التي كانت تشغل الفكر العقدي الكلامي والفلسفي.. أنداك.وفي هذا البحث ذكر للمخطوط المذكور أعلاه ، وهو عبارة عن دراسة لمسألة \"بعث الأجسام\" وإشكالاتها الكلامية في الغرب الإسلامي في نهاية القرن الثامن وبداية القرن القرن التاسع الهجري، لأحد أبرز علماء هذه الفترة، وهو أبو القاسم ابن مخلص السبتي ( كان حيّاً 812 هـ) رحمه الله تعالى.',\n",
       "  '.تهدف الدراسة إلى التعرف على أثر التدريب المدمج على تنمية مهارات التمرير الطويل و المراوغة لدى براعم كرة القدم بولاية أم البواقي، وتم استخدام المنهج التجريبي، وتم إختيار عينة الدراسة بطريقة عمدية وتكونت من 36 لاعبا تم تقسيمهم إلى مجموعتين إحداهما تجريبية و الأخرى ضابطة ضمت كل منهما 18 لاعبا من فريقي إتحاد عين البيضاء و شباب الضلعة لكرة القدم ، وتم الاعتماد على الاختبارات المهارية، وتوصلنا إلى وجود أثر إيجابي لطريقة التدريب المدمج على تنمية المتغيرات المهارية ( التمرير الطويل ، المراوغة ) في كرة القدم، وقد أوصت الدراسة بضرورة الاهتمام أكثر بالصفات المهارية مستقبلا لأنها سر النجاح والتفوق.',\n",
       "  '.ملخص الدراسة. في ظل المتغيرات التي شهدها العالم والتي أدت إلى تحولات في العديد من المجالات الاقتصادية والاجتماعية، وظهور مفاهيم جديدة على غرار اقتصاد السوق والمناداة بإعطاء القطاع الخاص نصيبا ودورا في التنمية الشاملة والتي في مقدمتها التربية والتعليم، سعت الجزائر إلى إصلاح منظومتها التربوية من خلال القانون رقم 08_04، المتضمن القانون التوجيهي للتربية الوطنية، المعدل والمتمم، وذلك لمنح المبادرات الفردية دورها في النهوض بالتنمية البشرية وتحسين جودة التعليم، وفي الوقت ذاته تخفيف العبء على وزارة التربية الوطنية. وباعتبار أن الاستثمار في مرفق التعليم حديث نسبيا ويختلف تماما عن الاستثمار في قطاعات أخرى، فإن الدراسة كشفت أن مؤسسات التربية والتعليم الخاصة قد لقيت صعوبات خاصة في بداية مشوارها وذلك لنقص خبرتها وتجربتها، وهي اليوم _بمثل حاجة الدولة إليها_ تحتاج إلى خبرة وكفاءة القطاع العمومي لتحسين أدائها وتطوير نشاطها، ولا يتم ذلك إلا من خلال توفير مناخ قانوني واجتماعي وسياسي مناسب، وتوطيد علاقتها بمؤسسات التربية والتعليم العمومية لتبادل الخبرات والكفاءات. الكلمات المفتاحية: القطاع الخاص_ مؤسسات التربية والتعليم الخاصة_ الاستثمار في مرفق التربية والتعليم.'],\n",
       " ['يُعنى هذا البحث ببيان قاعدة أو نظرية \"الضرورة\"، واستخراج تطبيقات مالكية الجزائر وما جاورها من خلال كتاب \"الدرر المكنونة في نوازل مازونة\" في مختلف الأبواب الفقهية؛ كون الضرورة تدخل تحتها قواعد أصولية وفقهية كثيرة.وقد أسفرت نتائج البحث إلى أنّ علماء النوازل المالكية قد زاوجوا بين العقل والنقل، وبين التنظير والتطبيق، وبين القواعد الفقهية والقواعد الأصولية، وقد ظهر ذلك جليا في الفتاوى والنوازل التي جمعها أبو زكريا يحي بن موسى المازوني رحمه الله تعالى، حيث أعملوا قواعد التيسير ورفع الحرج ودفع المشقة على الناس، دون الخروج عن قواعد الشرع وأدلته، ومنه قاعدة الضرورة والحاجة، فكانت الفتوى بها في مواطن كثيرة من هذه الموسوعة، وقد اخترت نماذج من العبادات والمعاملات، بعدما وضعت نبذة مختصرة عن الدرر المكنونة في نوازل مازونة، ثم عرفت الضرورة، وذكرت شروطها، وبعض القواعد التي لها علاقة بها.كلمات مفتاحية: الضرورة؛ النوازل؛ مازونة.',\n",
       "  'يُعَدُّ نشاط التعبير من أبرز ما يقف عنده المعلم في تعليم العربية ، وعلومها؛ ولا شك أنّ ما يميّزُ تلك التقنية_ أوذلك النشاط_ أنها المدخل إلى المعرفة باللغة وعلومها، ومن هذا المنطلق ارتأينا في هذه المداخلة أنْ نقف عند بنية التعبير في اللغة العربية من حيث وقوع هذه البنية في مفترق مفهومين متداخلين ، ومختلفين بعض الشيء، ومع ذلك فيمكننا أن نضع للتعبير بنية ، وستكون مبررات البحث كامنة في البحث عن تلك البنية من منطلق التعليم والتدريس، وكون أحدهما أشمل من الآخر في تحديد خصوصية بنية التعبير، وسيكون حظنا في تحليل البنية نظريا أكثر منه تطبيقيا ، وسيكون للآراء المختلفة المستشهد بها في التحليل؛ ركيزة لبناء مفهوم للتعبير من منطلق البنية وشروطها..',\n",
       "  'ُلَخَّصُ الْبَحْثِ:يُحَاوِلُ الْمَقَالُ أَنْ يُبَيِّنَ كَيْفِيَّةَ إِسْهَامِ الْإِحَالَةِ بِنَوْعَيْهَا الضَّمِيرِيَّةِ وَالْإِشَارِيَّةِ فِي اتِّسَاقِ الْخِطَابِ الْقُرْآنِيِّ، سَوَاءٌ كَانَتْ إِحَالَةً لُغَوِيَّةً أَمْ غَيْرَ لُغَوِيَّةٍ؛ إِذْ يَتَحَمَّلُ الْعَائِدُ صُوَرَ الْإِحَالَةِ الْمُمْكِنَةِ، فَيَرْبِطُ بَيْنَ الْكَلِمَاتِ فِي الْآيَةِ الْوَاحِدَةِ فَيُحِيلُ عَلَى جُزْءٍ يُمْكِنُ وَسْمُهُ شَكْلًا. وَهِيَ إِحَالَةٌ جُزْئِيَّةٌ لَا تَمْنَعُ الضَّمِيرَ مِنْ أَنْ يُحِيلَ أَحْيَانًا عَلَى مَا لَا يُمْكِنُ وَسْمُهُ شَكْلًا، فَيَخْرُجُ إِلَى إِحَالَةٍ مُوَسَّعَةٍ، تَتَعَدَّى الْعُنْصُرَ وَالْجُمْلَةَ إِلَى الْإِحَالَةِ عَلَى خِطَابٍ بِرُمَّتِهِ. أَمَّا غُمُوضُ الْإِحَالَةِ وَعَدَمُ وُضُوحِ الْعَائِدِ فِيهَا فَإِنَّ تَسْوِيقَهَا هُوَ الصَّائِرُ إِلَيْهِ، وَهُوَ مَا تُمَثِّلُهُ أَسْبَابُ النُّزُولِ.',\n",
       "  'ِتكنولوجيا المعلومات الحديثة دورا رئيسيا في إحداث التحولات المختلفة في العمل الإداري، حيث ساهمت في تطوير الكثير من مراحل العمل الإداري وتطوير أساليبه وتوفير المعلومات في الوقت المناسب وبأقل وتكلفة، إنها العديد من المزايا التي تمنحها تكنولوجيا المعلومات الحديثة للعمل الإداري من خلال تطبيق الإدارة الالكترونية صبغة الجودة على أعمال ونشاطات المؤسسة المختلفة، الأمر الذي بدوره يمكنها من تحسين أدائها وتحقيق الجودة بشكل أفضل. وفي هذا المقال نهدف إلى التعرف على مدى مساهمة الإدارة الالكترونية في تطوير العمل الإداري بمؤسسات التعليم العالي في الجزائر. ولتحقيق ذلك صيغت أربع فرضيات، اختبرت بواسطة مجموعة من الأساليب الإحصائية، واستخدمت الاستبانة كأداة رئيسة لجمع البيانات والمعلومات من عينة الدراسة. النتائج المتحصل عليها تشير إلى وجود علاقات ارتباط دالة وموجبة بين أبعاد الإدارة الالكترونية بشكل منفرد، مع أبعاد العمل الإداري مجتمعة..',\n",
       "  'یكاد يخلو مجتمع من المجتمعات لا یتحدث فیه الناس عن التطرف، وأسبابه، وطرق معالجته، نظرًا لانتشاره وتغلغله فى المجتمع خاصة العربى، وازدیاد خطورته على الفرد والمجتمع, وقد حدث جدال كبیر حول دور وسائل الإعلام فى العمل على زیادة عدد المتطرفین والملتحقین بصفوف الإرهاب، وحملوها مسئولیة كبرى فى تزیین التطرف فى نفوس الناس، وتبالغ فى وصف التطرف، وكأنها ترفع من شأن المتطرفين، مما یزعزع الثقة بقیم وعقیدة المجتمع, لذا سنحاول من خلال هذه الورقة العلمیة أن نضع بصمات فى تأثیر الإعلام فى زیادة التطرف فى المجتمع، وبصیغة إعلامیة لوضع القارئ فى الصورة التى یعالج من خلالها الإعلام التطرف.الكلمات المفتاحية: التطرف, الإعلام, الوقاية, اشكالية العلاقة.'])"
      ]
     },
     "execution_count": 24,
     "metadata": {},
     "output_type": "execute_result"
    }
   ],
   "source": [
    "sorted([abstract['original_abstract'] for abstract in filtered_abstracts['llama']])[:5],sorted([abstract['original_abstract'] for abstract in filtered_abstracts['llama']])[-5:]"
   ]
  },
  {
   "cell_type": "markdown",
   "metadata": {},
   "source": [
    "save filtered abstracts"
   ]
  },
  {
   "cell_type": "code",
   "execution_count": 25,
   "metadata": {},
   "outputs": [],
   "source": [
    "# save_jsonl(filtered_abstracts['allam'], 'generated_arabic_datasets/allam/arabic_abstracts_dataset/from_title_abstracts_generation_filtered.jsonl')\n",
    "# save_jsonl(filtered_abstracts['jais'], 'generated_arabic_datasets/jais-batched/arabic_abstracts_dataset/from_title_abstracts_generation_filtered.jsonl')\n",
    "# save_jsonl(filtered_abstracts['llama'], 'generated_arabic_datasets/llama-batched/arabic_abstracts_dataset/from_title_abstracts_generation_filtered.jsonl')\n",
    "# save_jsonl(filtered_abstracts['openai'], 'generated_arabic_datasets/openai/arabic_abstracts_dataset/from_title_abstracts_generation_filtered.jsonl')"
   ]
  },
  {
   "cell_type": "markdown",
   "metadata": {},
   "source": [
    "print descriptive statistics"
   ]
  },
  {
   "cell_type": "code",
   "execution_count": 26,
   "metadata": {},
   "outputs": [
    {
     "name": "stdout",
     "output_type": "stream",
     "text": [
      "Original Abstract Statistics:\n",
      "============================================================\n",
      "\n",
      "Word Count:\n",
      "  Min: 75.0\n",
      "  Max: 296.0\n",
      "  Avg: 119.6\n",
      "\n",
      "Sentence Count:\n",
      "  Min: 1.0\n",
      "  Max: 16.0\n",
      "  Avg: 2.7\n",
      "\n",
      "Sentence Length:\n",
      "  Min: 1.0\n",
      "  Max: 273.0\n",
      "  Avg: 59.7\n",
      "\n",
      "Generated Abstract Statistics:\n",
      "============================================================\n",
      "\n",
      "allam:\n",
      "----------------------------------------\n",
      "\n",
      "Word Count:\n",
      "  Min: 40.0 (Δ: -35.0)\n",
      "  Max: 196.0 (Δ: -100.0)\n",
      "  Avg: 77.2 (Δ: -42.4)\n",
      "\n",
      "Sentence Count:\n",
      "  Min: 2.0 (Δ: +1.0)\n",
      "  Max: 14.0 (Δ: -2.0)\n",
      "  Avg: 4.2 (Δ: +1.5)\n",
      "\n",
      "Sentence Length:\n",
      "  Min: 1.0 (Δ: +0.0)\n",
      "  Max: 47.0 (Δ: -226.0)\n",
      "  Avg: 18.6 (Δ: -41.1)\n",
      "\n",
      "openai:\n",
      "----------------------------------------\n",
      "\n",
      "Word Count:\n",
      "  Min: 98.0 (Δ: +23.0)\n",
      "  Max: 143.0 (Δ: -153.0)\n",
      "  Avg: 123.3 (Δ: +3.6)\n",
      "\n",
      "Sentence Count:\n",
      "  Min: 3.0 (Δ: +2.0)\n",
      "  Max: 8.0 (Δ: -8.0)\n",
      "  Avg: 5.2 (Δ: +2.6)\n",
      "\n",
      "Sentence Length:\n",
      "  Min: 1.0 (Δ: +0.0)\n",
      "  Max: 53.0 (Δ: -220.0)\n",
      "  Avg: 23.9 (Δ: -35.9)\n",
      "\n",
      "jais:\n",
      "----------------------------------------\n",
      "\n",
      "Word Count:\n",
      "  Min: 30.0 (Δ: -45.0)\n",
      "  Max: 126.0 (Δ: -170.0)\n",
      "  Avg: 62.3 (Δ: -57.3)\n",
      "\n",
      "Sentence Count:\n",
      "  Min: 1.0 (Δ: +0.0)\n",
      "  Max: 9.0 (Δ: -7.0)\n",
      "  Avg: 3.5 (Δ: +0.8)\n",
      "\n",
      "Sentence Length:\n",
      "  Min: 1.0 (Δ: +0.0)\n",
      "  Max: 49.0 (Δ: -224.0)\n",
      "  Avg: 18.2 (Δ: -41.5)\n",
      "\n",
      "llama:\n",
      "----------------------------------------\n",
      "\n",
      "Word Count:\n",
      "  Min: 42.0 (Δ: -33.0)\n",
      "  Max: 272.0 (Δ: -24.0)\n",
      "  Avg: 99.9 (Δ: -19.7)\n",
      "\n",
      "Sentence Count:\n",
      "  Min: 1.0 (Δ: +0.0)\n",
      "  Max: 15.0 (Δ: -1.0)\n",
      "  Avg: 4.6 (Δ: +1.9)\n",
      "\n",
      "Sentence Length:\n",
      "  Min: 1.0 (Δ: +0.0)\n",
      "  Max: 140.0 (Δ: -133.0)\n",
      "  Avg: 22.5 (Δ: -37.2)\n"
     ]
    }
   ],
   "source": [
    "print_discriptive_statistics_comparision(calculate_descriptive_statistics(filtered_abstracts))"
   ]
  },
  {
   "cell_type": "markdown",
   "metadata": {},
   "source": [
    "calclate similarity metrics"
   ]
  },
  {
   "cell_type": "code",
   "execution_count": 27,
   "metadata": {},
   "outputs": [
    {
     "name": "stderr",
     "output_type": "stream",
     "text": [
      "[nltk_data] Downloading package wordnet to\n",
      "[nltk_data]     /home/majed_alshaibani/nltk_data...\n",
      "[nltk_data]   Package wordnet is already up-to-date!\n",
      "[nltk_data] Downloading package punkt_tab to\n",
      "[nltk_data]     /home/majed_alshaibani/nltk_data...\n",
      "[nltk_data]   Package punkt_tab is already up-to-date!\n",
      "[nltk_data] Downloading package omw-1.4 to\n",
      "[nltk_data]     /home/majed_alshaibani/nltk_data...\n",
      "[nltk_data]   Package omw-1.4 is already up-to-date!\n"
     ]
    },
    {
     "name": "stdout",
     "output_type": "stream",
     "text": [
      "allam : {'bleu': 0.01799339323594296, 'meteor': 0.09366941226016803, 'rouge_l_f1': 0.03333333333333333, 'bert_score_f1': 0.6789880752563476}\n"
     ]
    },
    {
     "name": "stderr",
     "output_type": "stream",
     "text": [
      "[nltk_data] Downloading package wordnet to\n",
      "[nltk_data]     /home/majed_alshaibani/nltk_data...\n",
      "[nltk_data]   Package wordnet is already up-to-date!\n",
      "[nltk_data] Downloading package punkt_tab to\n",
      "[nltk_data]     /home/majed_alshaibani/nltk_data...\n",
      "[nltk_data]   Package punkt_tab is already up-to-date!\n",
      "[nltk_data] Downloading package omw-1.4 to\n",
      "[nltk_data]     /home/majed_alshaibani/nltk_data...\n",
      "[nltk_data]   Package omw-1.4 is already up-to-date!\n"
     ]
    },
    {
     "name": "stdout",
     "output_type": "stream",
     "text": [
      "openai : {'bleu': 0.016060202202749823, 'meteor': 0.1009792461228431, 'rouge_l_f1': 0.030769230769230764, 'bert_score_f1': 0.6818038165569306}\n"
     ]
    },
    {
     "name": "stderr",
     "output_type": "stream",
     "text": [
      "[nltk_data] Downloading package wordnet to\n",
      "[nltk_data]     /home/majed_alshaibani/nltk_data...\n",
      "[nltk_data]   Package wordnet is already up-to-date!\n",
      "[nltk_data] Downloading package punkt_tab to\n",
      "[nltk_data]     /home/majed_alshaibani/nltk_data...\n",
      "[nltk_data]   Package punkt_tab is already up-to-date!\n",
      "[nltk_data] Downloading package omw-1.4 to\n",
      "[nltk_data]     /home/majed_alshaibani/nltk_data...\n",
      "[nltk_data]   Package omw-1.4 is already up-to-date!\n"
     ]
    },
    {
     "name": "stdout",
     "output_type": "stream",
     "text": [
      "jais : {'bleu': 0.00974021868799892, 'meteor': 0.08282733000883899, 'rouge_l_f1': 0.02857142857142857, 'bert_score_f1': 0.6932152330875396}\n"
     ]
    },
    {
     "name": "stderr",
     "output_type": "stream",
     "text": [
      "[nltk_data] Downloading package wordnet to\n",
      "[nltk_data]     /home/majed_alshaibani/nltk_data...\n",
      "[nltk_data]   Package wordnet is already up-to-date!\n",
      "[nltk_data] Downloading package punkt_tab to\n",
      "[nltk_data]     /home/majed_alshaibani/nltk_data...\n",
      "[nltk_data]   Package punkt_tab is already up-to-date!\n",
      "[nltk_data] Downloading package omw-1.4 to\n",
      "[nltk_data]     /home/majed_alshaibani/nltk_data...\n",
      "[nltk_data]   Package omw-1.4 is already up-to-date!\n"
     ]
    },
    {
     "name": "stdout",
     "output_type": "stream",
     "text": [
      "llama : {'bleu': 0.023096491589497867, 'meteor': 0.102049822493532, 'rouge_l_f1': 0.02857142857142857, 'bert_score_f1': 0.6859988808631897}\n"
     ]
    }
   ],
   "source": [
    "for model_name, abstracts in filtered_abstracts.items():\n",
    "    print(\n",
    "        model_name, ':',\n",
    "        calculate_metrics_batch(\n",
    "            references=[[abstract['original_abstract']] for abstract in abstracts[:10]],\n",
    "            hypotheses=[abstract['generated_abstract'] for abstract in abstracts[:10]]\n",
    "        )\n",
    "    )"
   ]
  },
  {
   "cell_type": "markdown",
   "metadata": {},
   "source": [
    "# From title and content abstracts"
   ]
  },
  {
   "cell_type": "code",
   "execution_count": 28,
   "metadata": {},
   "outputs": [],
   "source": [
    "abstracts = dict(\n",
    "    allam = read_jsonl('generated_arabic_datasets/allam/arabic_abstracts_dataset/from_title_and_content_abstracts_generation.jsonl'),\n",
    "    openai= read_jsonl('generated_arabic_datasets/openai/arabic_abstracts_dataset/from_title_and_content_abstracts_generation.jsonl'),\n",
    "    # claude= json.load(open('generated_arabic_datasets/claude/arabic_abstracts_dataset/from_title_and_content_abstracts_generation.jsonl', 'r')),\n",
    "    jais = read_jsonl('generated_arabic_datasets/jais-batched/arabic_abstracts_dataset/from_title_and_content_abstracts_generation.jsonl'),\n",
    "    llama= read_jsonl('generated_arabic_datasets/llama-batched/arabic_abstracts_dataset/from_title_and_content_abstracts_generation.jsonl'),\n",
    ")"
   ]
  },
  {
   "cell_type": "code",
   "execution_count": 29,
   "metadata": {},
   "outputs": [
    {
     "data": {
      "text/plain": [
       "(3000, 3000, 3000, 3000)"
      ]
     },
     "execution_count": 29,
     "metadata": {},
     "output_type": "execute_result"
    }
   ],
   "source": [
    "len(abstracts['allam']), len(abstracts['jais']), len(abstracts['llama']), len(abstracts['openai'])"
   ]
  },
  {
   "cell_type": "markdown",
   "metadata": {},
   "source": [
    "filter abstracts"
   ]
  },
  {
   "cell_type": "code",
   "execution_count": 30,
   "metadata": {},
   "outputs": [],
   "source": [
    "filtered_abstracts = {}"
   ]
  },
  {
   "cell_type": "code",
   "execution_count": 31,
   "metadata": {},
   "outputs": [
    {
     "data": {
      "text/plain": [
       "(2995, 2995, 2995, 2995)"
      ]
     },
     "execution_count": 31,
     "metadata": {},
     "output_type": "execute_result"
    }
   ],
   "source": [
    "for model_name, model_abstracts in abstracts.items():\n",
    "    filtered_abstracts[model_name] = remove_arabic_abstrcats_duplicates(model_abstracts)\n",
    "len(filtered_abstracts['allam']), len(filtered_abstracts['jais']), len(filtered_abstracts['llama']), len(filtered_abstracts['openai'])"
   ]
  },
  {
   "cell_type": "code",
   "execution_count": 32,
   "metadata": {},
   "outputs": [
    {
     "data": {
      "text/plain": [
       "(2862, 2700, 2948, 2991)"
      ]
     },
     "execution_count": 32,
     "metadata": {},
     "output_type": "execute_result"
    }
   ],
   "source": [
    "for model_name, abstracts in filtered_abstracts.items():\n",
    "    filtered_abstracts[model_name] = []\n",
    "    for abstract in abstracts:\n",
    "        if is_valid_abstract(abstract):\n",
    "            filtered_abstracts[model_name].append(abstract)\n",
    "len(filtered_abstracts['allam']), len(filtered_abstracts['jais']), len(filtered_abstracts['llama']), len(filtered_abstracts['openai'])"
   ]
  },
  {
   "cell_type": "code",
   "execution_count": 33,
   "metadata": {},
   "outputs": [],
   "source": [
    "filtered_abstracts = get_common_abstracts(filtered_abstracts)"
   ]
  },
  {
   "cell_type": "code",
   "execution_count": 34,
   "metadata": {},
   "outputs": [
    {
     "data": {
      "text/plain": [
       "(2574, 2574, 2574)"
      ]
     },
     "execution_count": 34,
     "metadata": {},
     "output_type": "execute_result"
    }
   ],
   "source": [
    "len(filtered_abstracts['allam']), len(filtered_abstracts['jais']), len(filtered_abstracts['llama'])"
   ]
  },
  {
   "cell_type": "code",
   "execution_count": 35,
   "metadata": {},
   "outputs": [
    {
     "data": {
      "text/plain": [
       "(['\"غني عن القول أنّ القرآن من هذه النّاحية حجاج صرف، لا لكونه خطابا حواريًّا فحسب، وإنّما لأنّه يدعو بصريح اللّفظ إلى نبذ العنف في شأن الإيمان، وهو ما يقتضي أنّه حوار وحجاج\" قدور عمران. البعد التّداولي في الخطاب القرآني إسرائيل\"الحكمة الإلهيّة في اختيار المعجزة من جنس ما اشتهر بين القوم هي أنّ الإنسان إذا أوتي من قِبل ما يعتبره مفخرته ومجال إجادته واعتزازه تكون الحجّة عليه أقوى والمعجز أكثر فعلا وأثرا\". مصطفى مسلم. مباحث في إعجاز القرآن.',\n",
       "  '(علم النص) آخر ما توصلت إليه اللسانيات الغربية المعاصرة، به انتقل البحث اللساني من نحو الجملة إلى نحو النص، وأصبح التحليل النصي للخطاب قائما على نظام الوحدة الموضوعية أو البنية الكبرى، وبها ترتبط الوحدات أو البنى الصغرى في النص..وقد أقام (علم النص) جملة من المعايير يحكم بها على نصية أو نصانية النص، ويزعم أصحاب هذا الفن أن لهم السبق فيما توصلوا إليه. فإن كان زعمهم يصدق عندهم في الغرب، فهل سبقوا حقا العرب في ذلك. وللإجابة عن هذا السؤال تأتي هذه المقاربة لواحد من العلوم الكثيرة عند العرب والمسلمين، هو التفسير الموضوعي للسورة القرآنية...',\n",
       "  '.الاهتمام بالمخطوط العقدي والكلامي في المغرب العربي والشمال الإفريقي.. له أهمية كبيرة في معرفة ماهية هذه المخطوطات وأهميتها، فهي دليل مادي ملموس لشرح حيثيات الدرس العقدي والكلامي والفلسفي.. والتعريف بأهم الأعلام والمؤلفات التي كانت لها الحظوة في زمان المخطوط، كما يبين أيضا أهم القضايا والإشكالات التي كانت تشغل الفكر العقدي الكلامي والفلسفي.. أنداك.وفي هذا البحث ذكر للمخطوط المذكور أعلاه ، وهو عبارة عن دراسة لمسألة \"بعث الأجسام\" وإشكالاتها الكلامية في الغرب الإسلامي في نهاية القرن الثامن وبداية القرن القرن التاسع الهجري، لأحد أبرز علماء هذه الفترة، وهو أبو القاسم ابن مخلص السبتي ( كان حيّاً 812 هـ) رحمه الله تعالى.',\n",
       "  '.تهدف الدراسة إلى التعرف على أثر التدريب المدمج على تنمية مهارات التمرير الطويل و المراوغة لدى براعم كرة القدم بولاية أم البواقي، وتم استخدام المنهج التجريبي، وتم إختيار عينة الدراسة بطريقة عمدية وتكونت من 36 لاعبا تم تقسيمهم إلى مجموعتين إحداهما تجريبية و الأخرى ضابطة ضمت كل منهما 18 لاعبا من فريقي إتحاد عين البيضاء و شباب الضلعة لكرة القدم ، وتم الاعتماد على الاختبارات المهارية، وتوصلنا إلى وجود أثر إيجابي لطريقة التدريب المدمج على تنمية المتغيرات المهارية ( التمرير الطويل ، المراوغة ) في كرة القدم، وقد أوصت الدراسة بضرورة الاهتمام أكثر بالصفات المهارية مستقبلا لأنها سر النجاح والتفوق.',\n",
       "  '.ملخص الدراسة. في ظل المتغيرات التي شهدها العالم والتي أدت إلى تحولات في العديد من المجالات الاقتصادية والاجتماعية، وظهور مفاهيم جديدة على غرار اقتصاد السوق والمناداة بإعطاء القطاع الخاص نصيبا ودورا في التنمية الشاملة والتي في مقدمتها التربية والتعليم، سعت الجزائر إلى إصلاح منظومتها التربوية من خلال القانون رقم 08_04، المتضمن القانون التوجيهي للتربية الوطنية، المعدل والمتمم، وذلك لمنح المبادرات الفردية دورها في النهوض بالتنمية البشرية وتحسين جودة التعليم، وفي الوقت ذاته تخفيف العبء على وزارة التربية الوطنية. وباعتبار أن الاستثمار في مرفق التعليم حديث نسبيا ويختلف تماما عن الاستثمار في قطاعات أخرى، فإن الدراسة كشفت أن مؤسسات التربية والتعليم الخاصة قد لقيت صعوبات خاصة في بداية مشوارها وذلك لنقص خبرتها وتجربتها، وهي اليوم _بمثل حاجة الدولة إليها_ تحتاج إلى خبرة وكفاءة القطاع العمومي لتحسين أدائها وتطوير نشاطها، ولا يتم ذلك إلا من خلال توفير مناخ قانوني واجتماعي وسياسي مناسب، وتوطيد علاقتها بمؤسسات التربية والتعليم العمومية لتبادل الخبرات والكفاءات. الكلمات المفتاحية: القطاع الخاص_ مؤسسات التربية والتعليم الخاصة_ الاستثمار في مرفق التربية والتعليم.'],\n",
       " ['يُعدُّ الحجاج ركيزة أساسية في الحديث النبوي، كونه خطابا يروم إقناع الآخرين وحملهم على التسليم بأشياء معينة أو ترك التسليم بها، وقد دُرس هذا الجانب الحجاجي في بحوث كثيرة لكنّ أغلبها ركّز إما على الجانب اللغوي أو على الجانب المنطقي العقلي (اللوغوس) منه ، وكان هناك إهمال شبه تام للجانب الذاتيّ منه المعروف بالإيتوس، هذا الجانب الذي يعتمد على مصداقية المتكلّم وظهوره بالمظهر الذي يجعله جديرا بثقة جمهوره وسامعيه. ولهذا يروم هذا البحث إلى أن يجيب عن مجموعة من الأسئلة في هذا الصدد وهي:ما مدى حضور طريقة الإيتوس في الحجاج النبوي؟وما أسباب هذا الحضور وأنواعه وخصائصه؟وما مدى تأثير الإيتوس الصريح في فهم المقاصد النبوية.',\n",
       "  'يُعنى هذا البحث ببيان قاعدة أو نظرية \"الضرورة\"، واستخراج تطبيقات مالكية الجزائر وما جاورها من خلال كتاب \"الدرر المكنونة في نوازل مازونة\" في مختلف الأبواب الفقهية؛ كون الضرورة تدخل تحتها قواعد أصولية وفقهية كثيرة.وقد أسفرت نتائج البحث إلى أنّ علماء النوازل المالكية قد زاوجوا بين العقل والنقل، وبين التنظير والتطبيق، وبين القواعد الفقهية والقواعد الأصولية، وقد ظهر ذلك جليا في الفتاوى والنوازل التي جمعها أبو زكريا يحي بن موسى المازوني رحمه الله تعالى، حيث أعملوا قواعد التيسير ورفع الحرج ودفع المشقة على الناس، دون الخروج عن قواعد الشرع وأدلته، ومنه قاعدة الضرورة والحاجة، فكانت الفتوى بها في مواطن كثيرة من هذه الموسوعة، وقد اخترت نماذج من العبادات والمعاملات، بعدما وضعت نبذة مختصرة عن الدرر المكنونة في نوازل مازونة، ثم عرفت الضرورة، وذكرت شروطها، وبعض القواعد التي لها علاقة بها.كلمات مفتاحية: الضرورة؛ النوازل؛ مازونة.',\n",
       "  'يُعَدُّ نشاط التعبير من أبرز ما يقف عنده المعلم في تعليم العربية ، وعلومها؛ ولا شك أنّ ما يميّزُ تلك التقنية_ أوذلك النشاط_ أنها المدخل إلى المعرفة باللغة وعلومها، ومن هذا المنطلق ارتأينا في هذه المداخلة أنْ نقف عند بنية التعبير في اللغة العربية من حيث وقوع هذه البنية في مفترق مفهومين متداخلين ، ومختلفين بعض الشيء، ومع ذلك فيمكننا أن نضع للتعبير بنية ، وستكون مبررات البحث كامنة في البحث عن تلك البنية من منطلق التعليم والتدريس، وكون أحدهما أشمل من الآخر في تحديد خصوصية بنية التعبير، وسيكون حظنا في تحليل البنية نظريا أكثر منه تطبيقيا ، وسيكون للآراء المختلفة المستشهد بها في التحليل؛ ركيزة لبناء مفهوم للتعبير من منطلق البنية وشروطها..',\n",
       "  'ِتكنولوجيا المعلومات الحديثة دورا رئيسيا في إحداث التحولات المختلفة في العمل الإداري، حيث ساهمت في تطوير الكثير من مراحل العمل الإداري وتطوير أساليبه وتوفير المعلومات في الوقت المناسب وبأقل وتكلفة، إنها العديد من المزايا التي تمنحها تكنولوجيا المعلومات الحديثة للعمل الإداري من خلال تطبيق الإدارة الالكترونية صبغة الجودة على أعمال ونشاطات المؤسسة المختلفة، الأمر الذي بدوره يمكنها من تحسين أدائها وتحقيق الجودة بشكل أفضل. وفي هذا المقال نهدف إلى التعرف على مدى مساهمة الإدارة الالكترونية في تطوير العمل الإداري بمؤسسات التعليم العالي في الجزائر. ولتحقيق ذلك صيغت أربع فرضيات، اختبرت بواسطة مجموعة من الأساليب الإحصائية، واستخدمت الاستبانة كأداة رئيسة لجمع البيانات والمعلومات من عينة الدراسة. النتائج المتحصل عليها تشير إلى وجود علاقات ارتباط دالة وموجبة بين أبعاد الإدارة الالكترونية بشكل منفرد، مع أبعاد العمل الإداري مجتمعة..',\n",
       "  'یكاد يخلو مجتمع من المجتمعات لا یتحدث فیه الناس عن التطرف، وأسبابه، وطرق معالجته، نظرًا لانتشاره وتغلغله فى المجتمع خاصة العربى، وازدیاد خطورته على الفرد والمجتمع, وقد حدث جدال كبیر حول دور وسائل الإعلام فى العمل على زیادة عدد المتطرفین والملتحقین بصفوف الإرهاب، وحملوها مسئولیة كبرى فى تزیین التطرف فى نفوس الناس، وتبالغ فى وصف التطرف، وكأنها ترفع من شأن المتطرفين، مما یزعزع الثقة بقیم وعقیدة المجتمع, لذا سنحاول من خلال هذه الورقة العلمیة أن نضع بصمات فى تأثیر الإعلام فى زیادة التطرف فى المجتمع، وبصیغة إعلامیة لوضع القارئ فى الصورة التى یعالج من خلالها الإعلام التطرف.الكلمات المفتاحية: التطرف, الإعلام, الوقاية, اشكالية العلاقة.'])"
      ]
     },
     "execution_count": 35,
     "metadata": {},
     "output_type": "execute_result"
    }
   ],
   "source": [
    "sorted([abstract['original_abstract'] for abstract in filtered_abstracts['allam']])[:5],sorted([abstract['original_abstract'] for abstract in filtered_abstracts['allam']])[-5:]"
   ]
  },
  {
   "cell_type": "code",
   "execution_count": 36,
   "metadata": {},
   "outputs": [
    {
     "data": {
      "text/plain": [
       "(['\"غني عن القول أنّ القرآن من هذه النّاحية حجاج صرف، لا لكونه خطابا حواريًّا فحسب، وإنّما لأنّه يدعو بصريح اللّفظ إلى نبذ العنف في شأن الإيمان، وهو ما يقتضي أنّه حوار وحجاج\" قدور عمران. البعد التّداولي في الخطاب القرآني إسرائيل\"الحكمة الإلهيّة في اختيار المعجزة من جنس ما اشتهر بين القوم هي أنّ الإنسان إذا أوتي من قِبل ما يعتبره مفخرته ومجال إجادته واعتزازه تكون الحجّة عليه أقوى والمعجز أكثر فعلا وأثرا\". مصطفى مسلم. مباحث في إعجاز القرآن.',\n",
       "  '(علم النص) آخر ما توصلت إليه اللسانيات الغربية المعاصرة، به انتقل البحث اللساني من نحو الجملة إلى نحو النص، وأصبح التحليل النصي للخطاب قائما على نظام الوحدة الموضوعية أو البنية الكبرى، وبها ترتبط الوحدات أو البنى الصغرى في النص..وقد أقام (علم النص) جملة من المعايير يحكم بها على نصية أو نصانية النص، ويزعم أصحاب هذا الفن أن لهم السبق فيما توصلوا إليه. فإن كان زعمهم يصدق عندهم في الغرب، فهل سبقوا حقا العرب في ذلك. وللإجابة عن هذا السؤال تأتي هذه المقاربة لواحد من العلوم الكثيرة عند العرب والمسلمين، هو التفسير الموضوعي للسورة القرآنية...',\n",
       "  '.الاهتمام بالمخطوط العقدي والكلامي في المغرب العربي والشمال الإفريقي.. له أهمية كبيرة في معرفة ماهية هذه المخطوطات وأهميتها، فهي دليل مادي ملموس لشرح حيثيات الدرس العقدي والكلامي والفلسفي.. والتعريف بأهم الأعلام والمؤلفات التي كانت لها الحظوة في زمان المخطوط، كما يبين أيضا أهم القضايا والإشكالات التي كانت تشغل الفكر العقدي الكلامي والفلسفي.. أنداك.وفي هذا البحث ذكر للمخطوط المذكور أعلاه ، وهو عبارة عن دراسة لمسألة \"بعث الأجسام\" وإشكالاتها الكلامية في الغرب الإسلامي في نهاية القرن الثامن وبداية القرن القرن التاسع الهجري، لأحد أبرز علماء هذه الفترة، وهو أبو القاسم ابن مخلص السبتي ( كان حيّاً 812 هـ) رحمه الله تعالى.',\n",
       "  '.تهدف الدراسة إلى التعرف على أثر التدريب المدمج على تنمية مهارات التمرير الطويل و المراوغة لدى براعم كرة القدم بولاية أم البواقي، وتم استخدام المنهج التجريبي، وتم إختيار عينة الدراسة بطريقة عمدية وتكونت من 36 لاعبا تم تقسيمهم إلى مجموعتين إحداهما تجريبية و الأخرى ضابطة ضمت كل منهما 18 لاعبا من فريقي إتحاد عين البيضاء و شباب الضلعة لكرة القدم ، وتم الاعتماد على الاختبارات المهارية، وتوصلنا إلى وجود أثر إيجابي لطريقة التدريب المدمج على تنمية المتغيرات المهارية ( التمرير الطويل ، المراوغة ) في كرة القدم، وقد أوصت الدراسة بضرورة الاهتمام أكثر بالصفات المهارية مستقبلا لأنها سر النجاح والتفوق.',\n",
       "  '.ملخص الدراسة. في ظل المتغيرات التي شهدها العالم والتي أدت إلى تحولات في العديد من المجالات الاقتصادية والاجتماعية، وظهور مفاهيم جديدة على غرار اقتصاد السوق والمناداة بإعطاء القطاع الخاص نصيبا ودورا في التنمية الشاملة والتي في مقدمتها التربية والتعليم، سعت الجزائر إلى إصلاح منظومتها التربوية من خلال القانون رقم 08_04، المتضمن القانون التوجيهي للتربية الوطنية، المعدل والمتمم، وذلك لمنح المبادرات الفردية دورها في النهوض بالتنمية البشرية وتحسين جودة التعليم، وفي الوقت ذاته تخفيف العبء على وزارة التربية الوطنية. وباعتبار أن الاستثمار في مرفق التعليم حديث نسبيا ويختلف تماما عن الاستثمار في قطاعات أخرى، فإن الدراسة كشفت أن مؤسسات التربية والتعليم الخاصة قد لقيت صعوبات خاصة في بداية مشوارها وذلك لنقص خبرتها وتجربتها، وهي اليوم _بمثل حاجة الدولة إليها_ تحتاج إلى خبرة وكفاءة القطاع العمومي لتحسين أدائها وتطوير نشاطها، ولا يتم ذلك إلا من خلال توفير مناخ قانوني واجتماعي وسياسي مناسب، وتوطيد علاقتها بمؤسسات التربية والتعليم العمومية لتبادل الخبرات والكفاءات. الكلمات المفتاحية: القطاع الخاص_ مؤسسات التربية والتعليم الخاصة_ الاستثمار في مرفق التربية والتعليم.'],\n",
       " ['يُعدُّ الحجاج ركيزة أساسية في الحديث النبوي، كونه خطابا يروم إقناع الآخرين وحملهم على التسليم بأشياء معينة أو ترك التسليم بها، وقد دُرس هذا الجانب الحجاجي في بحوث كثيرة لكنّ أغلبها ركّز إما على الجانب اللغوي أو على الجانب المنطقي العقلي (اللوغوس) منه ، وكان هناك إهمال شبه تام للجانب الذاتيّ منه المعروف بالإيتوس، هذا الجانب الذي يعتمد على مصداقية المتكلّم وظهوره بالمظهر الذي يجعله جديرا بثقة جمهوره وسامعيه. ولهذا يروم هذا البحث إلى أن يجيب عن مجموعة من الأسئلة في هذا الصدد وهي:ما مدى حضور طريقة الإيتوس في الحجاج النبوي؟وما أسباب هذا الحضور وأنواعه وخصائصه؟وما مدى تأثير الإيتوس الصريح في فهم المقاصد النبوية.',\n",
       "  'يُعنى هذا البحث ببيان قاعدة أو نظرية \"الضرورة\"، واستخراج تطبيقات مالكية الجزائر وما جاورها من خلال كتاب \"الدرر المكنونة في نوازل مازونة\" في مختلف الأبواب الفقهية؛ كون الضرورة تدخل تحتها قواعد أصولية وفقهية كثيرة.وقد أسفرت نتائج البحث إلى أنّ علماء النوازل المالكية قد زاوجوا بين العقل والنقل، وبين التنظير والتطبيق، وبين القواعد الفقهية والقواعد الأصولية، وقد ظهر ذلك جليا في الفتاوى والنوازل التي جمعها أبو زكريا يحي بن موسى المازوني رحمه الله تعالى، حيث أعملوا قواعد التيسير ورفع الحرج ودفع المشقة على الناس، دون الخروج عن قواعد الشرع وأدلته، ومنه قاعدة الضرورة والحاجة، فكانت الفتوى بها في مواطن كثيرة من هذه الموسوعة، وقد اخترت نماذج من العبادات والمعاملات، بعدما وضعت نبذة مختصرة عن الدرر المكنونة في نوازل مازونة، ثم عرفت الضرورة، وذكرت شروطها، وبعض القواعد التي لها علاقة بها.كلمات مفتاحية: الضرورة؛ النوازل؛ مازونة.',\n",
       "  'يُعَدُّ نشاط التعبير من أبرز ما يقف عنده المعلم في تعليم العربية ، وعلومها؛ ولا شك أنّ ما يميّزُ تلك التقنية_ أوذلك النشاط_ أنها المدخل إلى المعرفة باللغة وعلومها، ومن هذا المنطلق ارتأينا في هذه المداخلة أنْ نقف عند بنية التعبير في اللغة العربية من حيث وقوع هذه البنية في مفترق مفهومين متداخلين ، ومختلفين بعض الشيء، ومع ذلك فيمكننا أن نضع للتعبير بنية ، وستكون مبررات البحث كامنة في البحث عن تلك البنية من منطلق التعليم والتدريس، وكون أحدهما أشمل من الآخر في تحديد خصوصية بنية التعبير، وسيكون حظنا في تحليل البنية نظريا أكثر منه تطبيقيا ، وسيكون للآراء المختلفة المستشهد بها في التحليل؛ ركيزة لبناء مفهوم للتعبير من منطلق البنية وشروطها..',\n",
       "  'ِتكنولوجيا المعلومات الحديثة دورا رئيسيا في إحداث التحولات المختلفة في العمل الإداري، حيث ساهمت في تطوير الكثير من مراحل العمل الإداري وتطوير أساليبه وتوفير المعلومات في الوقت المناسب وبأقل وتكلفة، إنها العديد من المزايا التي تمنحها تكنولوجيا المعلومات الحديثة للعمل الإداري من خلال تطبيق الإدارة الالكترونية صبغة الجودة على أعمال ونشاطات المؤسسة المختلفة، الأمر الذي بدوره يمكنها من تحسين أدائها وتحقيق الجودة بشكل أفضل. وفي هذا المقال نهدف إلى التعرف على مدى مساهمة الإدارة الالكترونية في تطوير العمل الإداري بمؤسسات التعليم العالي في الجزائر. ولتحقيق ذلك صيغت أربع فرضيات، اختبرت بواسطة مجموعة من الأساليب الإحصائية، واستخدمت الاستبانة كأداة رئيسة لجمع البيانات والمعلومات من عينة الدراسة. النتائج المتحصل عليها تشير إلى وجود علاقات ارتباط دالة وموجبة بين أبعاد الإدارة الالكترونية بشكل منفرد، مع أبعاد العمل الإداري مجتمعة..',\n",
       "  'یكاد يخلو مجتمع من المجتمعات لا یتحدث فیه الناس عن التطرف، وأسبابه، وطرق معالجته، نظرًا لانتشاره وتغلغله فى المجتمع خاصة العربى، وازدیاد خطورته على الفرد والمجتمع, وقد حدث جدال كبیر حول دور وسائل الإعلام فى العمل على زیادة عدد المتطرفین والملتحقین بصفوف الإرهاب، وحملوها مسئولیة كبرى فى تزیین التطرف فى نفوس الناس، وتبالغ فى وصف التطرف، وكأنها ترفع من شأن المتطرفين، مما یزعزع الثقة بقیم وعقیدة المجتمع, لذا سنحاول من خلال هذه الورقة العلمیة أن نضع بصمات فى تأثیر الإعلام فى زیادة التطرف فى المجتمع، وبصیغة إعلامیة لوضع القارئ فى الصورة التى یعالج من خلالها الإعلام التطرف.الكلمات المفتاحية: التطرف, الإعلام, الوقاية, اشكالية العلاقة.'])"
      ]
     },
     "execution_count": 36,
     "metadata": {},
     "output_type": "execute_result"
    }
   ],
   "source": [
    "sorted([abstract['original_abstract'] for abstract in filtered_abstracts['jais']])[:5],sorted([abstract['original_abstract'] for abstract in filtered_abstracts['jais']])[-5:]"
   ]
  },
  {
   "cell_type": "code",
   "execution_count": 37,
   "metadata": {},
   "outputs": [
    {
     "data": {
      "text/plain": [
       "(['\"غني عن القول أنّ القرآن من هذه النّاحية حجاج صرف، لا لكونه خطابا حواريًّا فحسب، وإنّما لأنّه يدعو بصريح اللّفظ إلى نبذ العنف في شأن الإيمان، وهو ما يقتضي أنّه حوار وحجاج\" قدور عمران. البعد التّداولي في الخطاب القرآني إسرائيل\"الحكمة الإلهيّة في اختيار المعجزة من جنس ما اشتهر بين القوم هي أنّ الإنسان إذا أوتي من قِبل ما يعتبره مفخرته ومجال إجادته واعتزازه تكون الحجّة عليه أقوى والمعجز أكثر فعلا وأثرا\". مصطفى مسلم. مباحث في إعجاز القرآن.',\n",
       "  '(علم النص) آخر ما توصلت إليه اللسانيات الغربية المعاصرة، به انتقل البحث اللساني من نحو الجملة إلى نحو النص، وأصبح التحليل النصي للخطاب قائما على نظام الوحدة الموضوعية أو البنية الكبرى، وبها ترتبط الوحدات أو البنى الصغرى في النص..وقد أقام (علم النص) جملة من المعايير يحكم بها على نصية أو نصانية النص، ويزعم أصحاب هذا الفن أن لهم السبق فيما توصلوا إليه. فإن كان زعمهم يصدق عندهم في الغرب، فهل سبقوا حقا العرب في ذلك. وللإجابة عن هذا السؤال تأتي هذه المقاربة لواحد من العلوم الكثيرة عند العرب والمسلمين، هو التفسير الموضوعي للسورة القرآنية...',\n",
       "  '.الاهتمام بالمخطوط العقدي والكلامي في المغرب العربي والشمال الإفريقي.. له أهمية كبيرة في معرفة ماهية هذه المخطوطات وأهميتها، فهي دليل مادي ملموس لشرح حيثيات الدرس العقدي والكلامي والفلسفي.. والتعريف بأهم الأعلام والمؤلفات التي كانت لها الحظوة في زمان المخطوط، كما يبين أيضا أهم القضايا والإشكالات التي كانت تشغل الفكر العقدي الكلامي والفلسفي.. أنداك.وفي هذا البحث ذكر للمخطوط المذكور أعلاه ، وهو عبارة عن دراسة لمسألة \"بعث الأجسام\" وإشكالاتها الكلامية في الغرب الإسلامي في نهاية القرن الثامن وبداية القرن القرن التاسع الهجري، لأحد أبرز علماء هذه الفترة، وهو أبو القاسم ابن مخلص السبتي ( كان حيّاً 812 هـ) رحمه الله تعالى.',\n",
       "  '.تهدف الدراسة إلى التعرف على أثر التدريب المدمج على تنمية مهارات التمرير الطويل و المراوغة لدى براعم كرة القدم بولاية أم البواقي، وتم استخدام المنهج التجريبي، وتم إختيار عينة الدراسة بطريقة عمدية وتكونت من 36 لاعبا تم تقسيمهم إلى مجموعتين إحداهما تجريبية و الأخرى ضابطة ضمت كل منهما 18 لاعبا من فريقي إتحاد عين البيضاء و شباب الضلعة لكرة القدم ، وتم الاعتماد على الاختبارات المهارية، وتوصلنا إلى وجود أثر إيجابي لطريقة التدريب المدمج على تنمية المتغيرات المهارية ( التمرير الطويل ، المراوغة ) في كرة القدم، وقد أوصت الدراسة بضرورة الاهتمام أكثر بالصفات المهارية مستقبلا لأنها سر النجاح والتفوق.',\n",
       "  '.ملخص الدراسة. في ظل المتغيرات التي شهدها العالم والتي أدت إلى تحولات في العديد من المجالات الاقتصادية والاجتماعية، وظهور مفاهيم جديدة على غرار اقتصاد السوق والمناداة بإعطاء القطاع الخاص نصيبا ودورا في التنمية الشاملة والتي في مقدمتها التربية والتعليم، سعت الجزائر إلى إصلاح منظومتها التربوية من خلال القانون رقم 08_04، المتضمن القانون التوجيهي للتربية الوطنية، المعدل والمتمم، وذلك لمنح المبادرات الفردية دورها في النهوض بالتنمية البشرية وتحسين جودة التعليم، وفي الوقت ذاته تخفيف العبء على وزارة التربية الوطنية. وباعتبار أن الاستثمار في مرفق التعليم حديث نسبيا ويختلف تماما عن الاستثمار في قطاعات أخرى، فإن الدراسة كشفت أن مؤسسات التربية والتعليم الخاصة قد لقيت صعوبات خاصة في بداية مشوارها وذلك لنقص خبرتها وتجربتها، وهي اليوم _بمثل حاجة الدولة إليها_ تحتاج إلى خبرة وكفاءة القطاع العمومي لتحسين أدائها وتطوير نشاطها، ولا يتم ذلك إلا من خلال توفير مناخ قانوني واجتماعي وسياسي مناسب، وتوطيد علاقتها بمؤسسات التربية والتعليم العمومية لتبادل الخبرات والكفاءات. الكلمات المفتاحية: القطاع الخاص_ مؤسسات التربية والتعليم الخاصة_ الاستثمار في مرفق التربية والتعليم.'],\n",
       " ['يُعدُّ الحجاج ركيزة أساسية في الحديث النبوي، كونه خطابا يروم إقناع الآخرين وحملهم على التسليم بأشياء معينة أو ترك التسليم بها، وقد دُرس هذا الجانب الحجاجي في بحوث كثيرة لكنّ أغلبها ركّز إما على الجانب اللغوي أو على الجانب المنطقي العقلي (اللوغوس) منه ، وكان هناك إهمال شبه تام للجانب الذاتيّ منه المعروف بالإيتوس، هذا الجانب الذي يعتمد على مصداقية المتكلّم وظهوره بالمظهر الذي يجعله جديرا بثقة جمهوره وسامعيه. ولهذا يروم هذا البحث إلى أن يجيب عن مجموعة من الأسئلة في هذا الصدد وهي:ما مدى حضور طريقة الإيتوس في الحجاج النبوي؟وما أسباب هذا الحضور وأنواعه وخصائصه؟وما مدى تأثير الإيتوس الصريح في فهم المقاصد النبوية.',\n",
       "  'يُعنى هذا البحث ببيان قاعدة أو نظرية \"الضرورة\"، واستخراج تطبيقات مالكية الجزائر وما جاورها من خلال كتاب \"الدرر المكنونة في نوازل مازونة\" في مختلف الأبواب الفقهية؛ كون الضرورة تدخل تحتها قواعد أصولية وفقهية كثيرة.وقد أسفرت نتائج البحث إلى أنّ علماء النوازل المالكية قد زاوجوا بين العقل والنقل، وبين التنظير والتطبيق، وبين القواعد الفقهية والقواعد الأصولية، وقد ظهر ذلك جليا في الفتاوى والنوازل التي جمعها أبو زكريا يحي بن موسى المازوني رحمه الله تعالى، حيث أعملوا قواعد التيسير ورفع الحرج ودفع المشقة على الناس، دون الخروج عن قواعد الشرع وأدلته، ومنه قاعدة الضرورة والحاجة، فكانت الفتوى بها في مواطن كثيرة من هذه الموسوعة، وقد اخترت نماذج من العبادات والمعاملات، بعدما وضعت نبذة مختصرة عن الدرر المكنونة في نوازل مازونة، ثم عرفت الضرورة، وذكرت شروطها، وبعض القواعد التي لها علاقة بها.كلمات مفتاحية: الضرورة؛ النوازل؛ مازونة.',\n",
       "  'يُعَدُّ نشاط التعبير من أبرز ما يقف عنده المعلم في تعليم العربية ، وعلومها؛ ولا شك أنّ ما يميّزُ تلك التقنية_ أوذلك النشاط_ أنها المدخل إلى المعرفة باللغة وعلومها، ومن هذا المنطلق ارتأينا في هذه المداخلة أنْ نقف عند بنية التعبير في اللغة العربية من حيث وقوع هذه البنية في مفترق مفهومين متداخلين ، ومختلفين بعض الشيء، ومع ذلك فيمكننا أن نضع للتعبير بنية ، وستكون مبررات البحث كامنة في البحث عن تلك البنية من منطلق التعليم والتدريس، وكون أحدهما أشمل من الآخر في تحديد خصوصية بنية التعبير، وسيكون حظنا في تحليل البنية نظريا أكثر منه تطبيقيا ، وسيكون للآراء المختلفة المستشهد بها في التحليل؛ ركيزة لبناء مفهوم للتعبير من منطلق البنية وشروطها..',\n",
       "  'ِتكنولوجيا المعلومات الحديثة دورا رئيسيا في إحداث التحولات المختلفة في العمل الإداري، حيث ساهمت في تطوير الكثير من مراحل العمل الإداري وتطوير أساليبه وتوفير المعلومات في الوقت المناسب وبأقل وتكلفة، إنها العديد من المزايا التي تمنحها تكنولوجيا المعلومات الحديثة للعمل الإداري من خلال تطبيق الإدارة الالكترونية صبغة الجودة على أعمال ونشاطات المؤسسة المختلفة، الأمر الذي بدوره يمكنها من تحسين أدائها وتحقيق الجودة بشكل أفضل. وفي هذا المقال نهدف إلى التعرف على مدى مساهمة الإدارة الالكترونية في تطوير العمل الإداري بمؤسسات التعليم العالي في الجزائر. ولتحقيق ذلك صيغت أربع فرضيات، اختبرت بواسطة مجموعة من الأساليب الإحصائية، واستخدمت الاستبانة كأداة رئيسة لجمع البيانات والمعلومات من عينة الدراسة. النتائج المتحصل عليها تشير إلى وجود علاقات ارتباط دالة وموجبة بين أبعاد الإدارة الالكترونية بشكل منفرد، مع أبعاد العمل الإداري مجتمعة..',\n",
       "  'یكاد يخلو مجتمع من المجتمعات لا یتحدث فیه الناس عن التطرف، وأسبابه، وطرق معالجته، نظرًا لانتشاره وتغلغله فى المجتمع خاصة العربى، وازدیاد خطورته على الفرد والمجتمع, وقد حدث جدال كبیر حول دور وسائل الإعلام فى العمل على زیادة عدد المتطرفین والملتحقین بصفوف الإرهاب، وحملوها مسئولیة كبرى فى تزیین التطرف فى نفوس الناس، وتبالغ فى وصف التطرف، وكأنها ترفع من شأن المتطرفين، مما یزعزع الثقة بقیم وعقیدة المجتمع, لذا سنحاول من خلال هذه الورقة العلمیة أن نضع بصمات فى تأثیر الإعلام فى زیادة التطرف فى المجتمع، وبصیغة إعلامیة لوضع القارئ فى الصورة التى یعالج من خلالها الإعلام التطرف.الكلمات المفتاحية: التطرف, الإعلام, الوقاية, اشكالية العلاقة.'])"
      ]
     },
     "execution_count": 37,
     "metadata": {},
     "output_type": "execute_result"
    }
   ],
   "source": [
    "sorted([abstract['original_abstract'] for abstract in filtered_abstracts['llama']])[:5],sorted([abstract['original_abstract'] for abstract in filtered_abstracts['llama']])[-5:]"
   ]
  },
  {
   "cell_type": "markdown",
   "metadata": {},
   "source": [
    "save filtered abstracts"
   ]
  },
  {
   "cell_type": "code",
   "execution_count": 38,
   "metadata": {},
   "outputs": [],
   "source": [
    "# save_jsonl(filtered_abstracts['allam'], 'generated_arabic_datasets/allam/arabic_abstracts_dataset/from_title_and_content_abstracts_generation_filtered.jsonl')\n",
    "# save_jsonl(filtered_abstracts['jais'], 'generated_arabic_datasets/jais-batched/arabic_abstracts_dataset/from_title_and_content_abstracts_generation_filtered.jsonl')\n",
    "# save_jsonl(filtered_abstracts['llama'], 'generated_arabic_datasets/llama-batched/arabic_abstracts_dataset/from_title_and_content_abstracts_generation_filtered.jsonl')\n",
    "# save_jsonl(filtered_abstracts['openai'], 'generated_arabic_datasets/openai/arabic_abstracts_dataset/from_title_and_content_abstracts_generation_filtered.jsonl')"
   ]
  },
  {
   "cell_type": "markdown",
   "metadata": {},
   "source": [
    "print descriptive statistics"
   ]
  },
  {
   "cell_type": "code",
   "execution_count": 39,
   "metadata": {},
   "outputs": [
    {
     "name": "stdout",
     "output_type": "stream",
     "text": [
      "Original Abstract Statistics:\n",
      "============================================================\n",
      "\n",
      "Word Count:\n",
      "  Min: 75.0\n",
      "  Max: 296.0\n",
      "  Avg: 119.7\n",
      "\n",
      "Sentence Count:\n",
      "  Min: 1.0\n",
      "  Max: 16.0\n",
      "  Avg: 2.7\n",
      "\n",
      "Sentence Length:\n",
      "  Min: 1.0\n",
      "  Max: 273.0\n",
      "  Avg: 59.4\n",
      "\n",
      "Generated Abstract Statistics:\n",
      "============================================================\n",
      "\n",
      "allam:\n",
      "----------------------------------------\n",
      "\n",
      "Word Count:\n",
      "  Min: 30.0 (Δ: -45.0)\n",
      "  Max: 2022.0 (Δ: +1726.0)\n",
      "  Avg: 95.3 (Δ: -24.3)\n",
      "\n",
      "Sentence Count:\n",
      "  Min: 2.0 (Δ: +1.0)\n",
      "  Max: 64.0 (Δ: +48.0)\n",
      "  Avg: 5.5 (Δ: +2.9)\n",
      "\n",
      "Sentence Length:\n",
      "  Min: 1.0 (Δ: +0.0)\n",
      "  Max: 133.0 (Δ: -140.0)\n",
      "  Avg: 17.5 (Δ: -42.0)\n",
      "\n",
      "openai:\n",
      "----------------------------------------\n",
      "\n",
      "Word Count:\n",
      "  Min: 85.0 (Δ: +10.0)\n",
      "  Max: 143.0 (Δ: -153.0)\n",
      "  Avg: 113.9 (Δ: -5.7)\n",
      "\n",
      "Sentence Count:\n",
      "  Min: 3.0 (Δ: +2.0)\n",
      "  Max: 9.0 (Δ: -7.0)\n",
      "  Avg: 5.3 (Δ: +2.7)\n",
      "\n",
      "Sentence Length:\n",
      "  Min: 1.0 (Δ: +0.0)\n",
      "  Max: 65.0 (Δ: -208.0)\n",
      "  Avg: 21.7 (Δ: -37.7)\n",
      "\n",
      "jais:\n",
      "----------------------------------------\n",
      "\n",
      "Word Count:\n",
      "  Min: 30.0 (Δ: -45.0)\n",
      "  Max: 435.0 (Δ: +139.0)\n",
      "  Avg: 105.7 (Δ: -13.9)\n",
      "\n",
      "Sentence Count:\n",
      "  Min: 1.0 (Δ: +0.0)\n",
      "  Max: 34.0 (Δ: +18.0)\n",
      "  Avg: 5.7 (Δ: +3.0)\n",
      "\n",
      "Sentence Length:\n",
      "  Min: 1.0 (Δ: +0.0)\n",
      "  Max: 255.0 (Δ: -18.0)\n",
      "  Avg: 19.3 (Δ: -40.1)\n",
      "\n",
      "llama:\n",
      "----------------------------------------\n",
      "\n",
      "Word Count:\n",
      "  Min: 33.0 (Δ: -42.0)\n",
      "  Max: 276.0 (Δ: -20.0)\n",
      "  Avg: 103.2 (Δ: -16.5)\n",
      "\n",
      "Sentence Count:\n",
      "  Min: 1.0 (Δ: +0.0)\n",
      "  Max: 101.0 (Δ: +85.0)\n",
      "  Avg: 5.1 (Δ: +2.4)\n",
      "\n",
      "Sentence Length:\n",
      "  Min: 1.0 (Δ: +0.0)\n",
      "  Max: 217.0 (Δ: -56.0)\n",
      "  Avg: 21.1 (Δ: -38.3)\n"
     ]
    }
   ],
   "source": [
    "print_discriptive_statistics_comparision(calculate_descriptive_statistics(filtered_abstracts))"
   ]
  },
  {
   "cell_type": "markdown",
   "metadata": {},
   "source": [
    "calclate similarity metrics"
   ]
  },
  {
   "cell_type": "code",
   "execution_count": 40,
   "metadata": {},
   "outputs": [
    {
     "name": "stderr",
     "output_type": "stream",
     "text": [
      "[nltk_data] Downloading package wordnet to\n",
      "[nltk_data]     /home/majed_alshaibani/nltk_data...\n",
      "[nltk_data]   Package wordnet is already up-to-date!\n",
      "[nltk_data] Downloading package punkt_tab to\n",
      "[nltk_data]     /home/majed_alshaibani/nltk_data...\n",
      "[nltk_data]   Package punkt_tab is already up-to-date!\n",
      "[nltk_data] Downloading package omw-1.4 to\n",
      "[nltk_data]     /home/majed_alshaibani/nltk_data...\n",
      "[nltk_data]   Package omw-1.4 is already up-to-date!\n"
     ]
    },
    {
     "name": "stdout",
     "output_type": "stream",
     "text": [
      "allam : {'bleu': 0.11746364398452952, 'meteor': 0.2531873825557477, 'rouge_l_f1': 0.14014168034870622, 'bert_score_f1': 0.7552560666270652}\n"
     ]
    },
    {
     "name": "stderr",
     "output_type": "stream",
     "text": [
      "[nltk_data] Downloading package wordnet to\n",
      "[nltk_data]     /home/majed_alshaibani/nltk_data...\n",
      "[nltk_data]   Package wordnet is already up-to-date!\n",
      "[nltk_data] Downloading package punkt_tab to\n",
      "[nltk_data]     /home/majed_alshaibani/nltk_data...\n",
      "[nltk_data]   Package punkt_tab is already up-to-date!\n",
      "[nltk_data] Downloading package omw-1.4 to\n",
      "[nltk_data]     /home/majed_alshaibani/nltk_data...\n",
      "[nltk_data]   Package omw-1.4 is already up-to-date!\n"
     ]
    },
    {
     "name": "stdout",
     "output_type": "stream",
     "text": [
      "openai : {'bleu': 0.06058084721504066, 'meteor': 0.1943649888565276, 'rouge_l_f1': 0.15752823674717972, 'bert_score_f1': 0.7399400753528459}\n"
     ]
    },
    {
     "name": "stderr",
     "output_type": "stream",
     "text": [
      "[nltk_data] Downloading package wordnet to\n",
      "[nltk_data]     /home/majed_alshaibani/nltk_data...\n",
      "[nltk_data]   Package wordnet is already up-to-date!\n",
      "[nltk_data] Downloading package punkt_tab to\n",
      "[nltk_data]     /home/majed_alshaibani/nltk_data...\n",
      "[nltk_data]   Package punkt_tab is already up-to-date!\n",
      "[nltk_data] Downloading package omw-1.4 to\n",
      "[nltk_data]     /home/majed_alshaibani/nltk_data...\n",
      "[nltk_data]   Package omw-1.4 is already up-to-date!\n"
     ]
    },
    {
     "name": "stdout",
     "output_type": "stream",
     "text": [
      "jais : {'bleu': 0.12207960279313508, 'meteor': 0.25997114162235313, 'rouge_l_f1': 0.14702779090178136, 'bert_score_f1': 0.7573456475576321}\n"
     ]
    },
    {
     "name": "stderr",
     "output_type": "stream",
     "text": [
      "[nltk_data] Downloading package wordnet to\n",
      "[nltk_data]     /home/majed_alshaibani/nltk_data...\n",
      "[nltk_data]   Package wordnet is already up-to-date!\n",
      "[nltk_data] Downloading package punkt_tab to\n",
      "[nltk_data]     /home/majed_alshaibani/nltk_data...\n",
      "[nltk_data]   Package punkt_tab is already up-to-date!\n",
      "[nltk_data] Downloading package omw-1.4 to\n",
      "[nltk_data]     /home/majed_alshaibani/nltk_data...\n",
      "[nltk_data]   Package omw-1.4 is already up-to-date!\n"
     ]
    },
    {
     "name": "stdout",
     "output_type": "stream",
     "text": [
      "llama : {'bleu': 0.14018576129998128, 'meteor': 0.2718974679277035, 'rouge_l_f1': 0.1214896184456037, 'bert_score_f1': 0.7570831812484003}\n"
     ]
    }
   ],
   "source": [
    "for model_name, abstracts in filtered_abstracts.items():\n",
    "    print(\n",
    "        model_name, ':',\n",
    "        calculate_metrics_batch(\n",
    "            references=[[abstract['original_abstract']] for abstract in abstracts],\n",
    "            hypotheses=[abstract['generated_abstract'] for abstract in abstracts]\n",
    "        )\n",
    "    )"
   ]
  },
  {
   "cell_type": "markdown",
   "metadata": {},
   "source": [
    "# Polished abstracts"
   ]
  },
  {
   "cell_type": "code",
   "execution_count": 41,
   "metadata": {},
   "outputs": [],
   "source": [
    "abstracts = dict(\n",
    "    allam = read_jsonl('generated_arabic_datasets/allam/arabic_abstracts_dataset/by_polishing_abstracts_abstracts_generation.jsonl'),\n",
    "    openai= read_jsonl('generated_arabic_datasets/openai/arabic_abstracts_dataset/by_polishing_abstracts_abstracts_generation.jsonl'),\n",
    "    # claude= json.load(open('generated_arabic_datasets/claude/arabic_abstracts_dataset/by_polishing_abstracts_abstracts_generation.jsonl', 'r')),\n",
    "    jais = read_jsonl('generated_arabic_datasets/jais-batched/arabic_abstracts_dataset/by_polishing_abstracts_abstracts_generation.jsonl'),\n",
    "    llama= read_jsonl('generated_arabic_datasets/llama-batched/arabic_abstracts_dataset/by_polishing_abstracts_abstracts_generation.jsonl'),\n",
    ")"
   ]
  },
  {
   "cell_type": "code",
   "execution_count": 42,
   "metadata": {},
   "outputs": [
    {
     "data": {
      "text/plain": [
       "(3000, 3000, 3000, 3000)"
      ]
     },
     "execution_count": 42,
     "metadata": {},
     "output_type": "execute_result"
    }
   ],
   "source": [
    "len(abstracts['allam']), len(abstracts['jais']), len(abstracts['llama']), len(abstracts['openai'])"
   ]
  },
  {
   "cell_type": "markdown",
   "metadata": {},
   "source": [
    "filter abstracts"
   ]
  },
  {
   "cell_type": "code",
   "execution_count": 43,
   "metadata": {},
   "outputs": [],
   "source": [
    "filtered_abstracts = {}"
   ]
  },
  {
   "cell_type": "code",
   "execution_count": 44,
   "metadata": {},
   "outputs": [
    {
     "data": {
      "text/plain": [
       "(2995, 2995, 2995, 2995)"
      ]
     },
     "execution_count": 44,
     "metadata": {},
     "output_type": "execute_result"
    }
   ],
   "source": [
    "for model_name, model_abstracts in abstracts.items():\n",
    "    filtered_abstracts[model_name] = remove_arabic_abstrcats_duplicates(model_abstracts)\n",
    "len(filtered_abstracts['allam']), len(filtered_abstracts['jais']), len(filtered_abstracts['llama']), len(filtered_abstracts['openai'])"
   ]
  },
  {
   "cell_type": "code",
   "execution_count": 45,
   "metadata": {},
   "outputs": [
    {
     "data": {
      "text/plain": [
       "(2989, 2899, 2980)"
      ]
     },
     "execution_count": 45,
     "metadata": {},
     "output_type": "execute_result"
    }
   ],
   "source": [
    "for model_name, abstracts in filtered_abstracts.items():\n",
    "    filtered_abstracts[model_name] = []\n",
    "    for abstract in abstracts:\n",
    "        if is_valid_abstract(abstract):\n",
    "            filtered_abstracts[model_name].append(abstract)\n",
    "len(filtered_abstracts['allam']), len(filtered_abstracts['jais']), len(filtered_abstracts['llama'])"
   ]
  },
  {
   "cell_type": "code",
   "execution_count": 46,
   "metadata": {},
   "outputs": [],
   "source": [
    "filtered_abstracts = get_common_abstracts(filtered_abstracts)"
   ]
  },
  {
   "cell_type": "code",
   "execution_count": 47,
   "metadata": {},
   "outputs": [
    {
     "data": {
      "text/plain": [
       "(2851, 2851, 2851)"
      ]
     },
     "execution_count": 47,
     "metadata": {},
     "output_type": "execute_result"
    }
   ],
   "source": [
    "len(filtered_abstracts['allam']), len(filtered_abstracts['jais']), len(filtered_abstracts['llama'])"
   ]
  },
  {
   "cell_type": "code",
   "execution_count": 48,
   "metadata": {},
   "outputs": [
    {
     "data": {
      "text/plain": [
       "(['\"غني عن القول أنّ القرآن من هذه النّاحية حجاج صرف، لا لكونه خطابا حواريًّا فحسب، وإنّما لأنّه يدعو بصريح اللّفظ إلى نبذ العنف في شأن الإيمان، وهو ما يقتضي أنّه حوار وحجاج\" قدور عمران. البعد التّداولي في الخطاب القرآني إسرائيل\"الحكمة الإلهيّة في اختيار المعجزة من جنس ما اشتهر بين القوم هي أنّ الإنسان إذا أوتي من قِبل ما يعتبره مفخرته ومجال إجادته واعتزازه تكون الحجّة عليه أقوى والمعجز أكثر فعلا وأثرا\". مصطفى مسلم. مباحث في إعجاز القرآن.',\n",
       "  '(علم النص) آخر ما توصلت إليه اللسانيات الغربية المعاصرة، به انتقل البحث اللساني من نحو الجملة إلى نحو النص، وأصبح التحليل النصي للخطاب قائما على نظام الوحدة الموضوعية أو البنية الكبرى، وبها ترتبط الوحدات أو البنى الصغرى في النص..وقد أقام (علم النص) جملة من المعايير يحكم بها على نصية أو نصانية النص، ويزعم أصحاب هذا الفن أن لهم السبق فيما توصلوا إليه. فإن كان زعمهم يصدق عندهم في الغرب، فهل سبقوا حقا العرب في ذلك. وللإجابة عن هذا السؤال تأتي هذه المقاربة لواحد من العلوم الكثيرة عند العرب والمسلمين، هو التفسير الموضوعي للسورة القرآنية...',\n",
       "  '.الاهتمام بالمخطوط العقدي والكلامي في المغرب العربي والشمال الإفريقي.. له أهمية كبيرة في معرفة ماهية هذه المخطوطات وأهميتها، فهي دليل مادي ملموس لشرح حيثيات الدرس العقدي والكلامي والفلسفي.. والتعريف بأهم الأعلام والمؤلفات التي كانت لها الحظوة في زمان المخطوط، كما يبين أيضا أهم القضايا والإشكالات التي كانت تشغل الفكر العقدي الكلامي والفلسفي.. أنداك.وفي هذا البحث ذكر للمخطوط المذكور أعلاه ، وهو عبارة عن دراسة لمسألة \"بعث الأجسام\" وإشكالاتها الكلامية في الغرب الإسلامي في نهاية القرن الثامن وبداية القرن القرن التاسع الهجري، لأحد أبرز علماء هذه الفترة، وهو أبو القاسم ابن مخلص السبتي ( كان حيّاً 812 هـ) رحمه الله تعالى.',\n",
       "  '.تهدف الدراسة إلى التعرف على أثر التدريب المدمج على تنمية مهارات التمرير الطويل و المراوغة لدى براعم كرة القدم بولاية أم البواقي، وتم استخدام المنهج التجريبي، وتم إختيار عينة الدراسة بطريقة عمدية وتكونت من 36 لاعبا تم تقسيمهم إلى مجموعتين إحداهما تجريبية و الأخرى ضابطة ضمت كل منهما 18 لاعبا من فريقي إتحاد عين البيضاء و شباب الضلعة لكرة القدم ، وتم الاعتماد على الاختبارات المهارية، وتوصلنا إلى وجود أثر إيجابي لطريقة التدريب المدمج على تنمية المتغيرات المهارية ( التمرير الطويل ، المراوغة ) في كرة القدم، وقد أوصت الدراسة بضرورة الاهتمام أكثر بالصفات المهارية مستقبلا لأنها سر النجاح والتفوق.',\n",
       "  '.ملخص الدراسة. في ظل المتغيرات التي شهدها العالم والتي أدت إلى تحولات في العديد من المجالات الاقتصادية والاجتماعية، وظهور مفاهيم جديدة على غرار اقتصاد السوق والمناداة بإعطاء القطاع الخاص نصيبا ودورا في التنمية الشاملة والتي في مقدمتها التربية والتعليم، سعت الجزائر إلى إصلاح منظومتها التربوية من خلال القانون رقم 08_04، المتضمن القانون التوجيهي للتربية الوطنية، المعدل والمتمم، وذلك لمنح المبادرات الفردية دورها في النهوض بالتنمية البشرية وتحسين جودة التعليم، وفي الوقت ذاته تخفيف العبء على وزارة التربية الوطنية. وباعتبار أن الاستثمار في مرفق التعليم حديث نسبيا ويختلف تماما عن الاستثمار في قطاعات أخرى، فإن الدراسة كشفت أن مؤسسات التربية والتعليم الخاصة قد لقيت صعوبات خاصة في بداية مشوارها وذلك لنقص خبرتها وتجربتها، وهي اليوم _بمثل حاجة الدولة إليها_ تحتاج إلى خبرة وكفاءة القطاع العمومي لتحسين أدائها وتطوير نشاطها، ولا يتم ذلك إلا من خلال توفير مناخ قانوني واجتماعي وسياسي مناسب، وتوطيد علاقتها بمؤسسات التربية والتعليم العمومية لتبادل الخبرات والكفاءات. الكلمات المفتاحية: القطاع الخاص_ مؤسسات التربية والتعليم الخاصة_ الاستثمار في مرفق التربية والتعليم.'],\n",
       " ['يُعنى هذا البحث ببيان قاعدة أو نظرية \"الضرورة\"، واستخراج تطبيقات مالكية الجزائر وما جاورها من خلال كتاب \"الدرر المكنونة في نوازل مازونة\" في مختلف الأبواب الفقهية؛ كون الضرورة تدخل تحتها قواعد أصولية وفقهية كثيرة.وقد أسفرت نتائج البحث إلى أنّ علماء النوازل المالكية قد زاوجوا بين العقل والنقل، وبين التنظير والتطبيق، وبين القواعد الفقهية والقواعد الأصولية، وقد ظهر ذلك جليا في الفتاوى والنوازل التي جمعها أبو زكريا يحي بن موسى المازوني رحمه الله تعالى، حيث أعملوا قواعد التيسير ورفع الحرج ودفع المشقة على الناس، دون الخروج عن قواعد الشرع وأدلته، ومنه قاعدة الضرورة والحاجة، فكانت الفتوى بها في مواطن كثيرة من هذه الموسوعة، وقد اخترت نماذج من العبادات والمعاملات، بعدما وضعت نبذة مختصرة عن الدرر المكنونة في نوازل مازونة، ثم عرفت الضرورة، وذكرت شروطها، وبعض القواعد التي لها علاقة بها.كلمات مفتاحية: الضرورة؛ النوازل؛ مازونة.',\n",
       "  'يُعَدُّ نشاط التعبير من أبرز ما يقف عنده المعلم في تعليم العربية ، وعلومها؛ ولا شك أنّ ما يميّزُ تلك التقنية_ أوذلك النشاط_ أنها المدخل إلى المعرفة باللغة وعلومها، ومن هذا المنطلق ارتأينا في هذه المداخلة أنْ نقف عند بنية التعبير في اللغة العربية من حيث وقوع هذه البنية في مفترق مفهومين متداخلين ، ومختلفين بعض الشيء، ومع ذلك فيمكننا أن نضع للتعبير بنية ، وستكون مبررات البحث كامنة في البحث عن تلك البنية من منطلق التعليم والتدريس، وكون أحدهما أشمل من الآخر في تحديد خصوصية بنية التعبير، وسيكون حظنا في تحليل البنية نظريا أكثر منه تطبيقيا ، وسيكون للآراء المختلفة المستشهد بها في التحليل؛ ركيزة لبناء مفهوم للتعبير من منطلق البنية وشروطها..',\n",
       "  'ُلَخَّصُ الْبَحْثِ:يُحَاوِلُ الْمَقَالُ أَنْ يُبَيِّنَ كَيْفِيَّةَ إِسْهَامِ الْإِحَالَةِ بِنَوْعَيْهَا الضَّمِيرِيَّةِ وَالْإِشَارِيَّةِ فِي اتِّسَاقِ الْخِطَابِ الْقُرْآنِيِّ، سَوَاءٌ كَانَتْ إِحَالَةً لُغَوِيَّةً أَمْ غَيْرَ لُغَوِيَّةٍ؛ إِذْ يَتَحَمَّلُ الْعَائِدُ صُوَرَ الْإِحَالَةِ الْمُمْكِنَةِ، فَيَرْبِطُ بَيْنَ الْكَلِمَاتِ فِي الْآيَةِ الْوَاحِدَةِ فَيُحِيلُ عَلَى جُزْءٍ يُمْكِنُ وَسْمُهُ شَكْلًا. وَهِيَ إِحَالَةٌ جُزْئِيَّةٌ لَا تَمْنَعُ الضَّمِيرَ مِنْ أَنْ يُحِيلَ أَحْيَانًا عَلَى مَا لَا يُمْكِنُ وَسْمُهُ شَكْلًا، فَيَخْرُجُ إِلَى إِحَالَةٍ مُوَسَّعَةٍ، تَتَعَدَّى الْعُنْصُرَ وَالْجُمْلَةَ إِلَى الْإِحَالَةِ عَلَى خِطَابٍ بِرُمَّتِهِ. أَمَّا غُمُوضُ الْإِحَالَةِ وَعَدَمُ وُضُوحِ الْعَائِدِ فِيهَا فَإِنَّ تَسْوِيقَهَا هُوَ الصَّائِرُ إِلَيْهِ، وَهُوَ مَا تُمَثِّلُهُ أَسْبَابُ النُّزُولِ.',\n",
       "  'ِتكنولوجيا المعلومات الحديثة دورا رئيسيا في إحداث التحولات المختلفة في العمل الإداري، حيث ساهمت في تطوير الكثير من مراحل العمل الإداري وتطوير أساليبه وتوفير المعلومات في الوقت المناسب وبأقل وتكلفة، إنها العديد من المزايا التي تمنحها تكنولوجيا المعلومات الحديثة للعمل الإداري من خلال تطبيق الإدارة الالكترونية صبغة الجودة على أعمال ونشاطات المؤسسة المختلفة، الأمر الذي بدوره يمكنها من تحسين أدائها وتحقيق الجودة بشكل أفضل. وفي هذا المقال نهدف إلى التعرف على مدى مساهمة الإدارة الالكترونية في تطوير العمل الإداري بمؤسسات التعليم العالي في الجزائر. ولتحقيق ذلك صيغت أربع فرضيات، اختبرت بواسطة مجموعة من الأساليب الإحصائية، واستخدمت الاستبانة كأداة رئيسة لجمع البيانات والمعلومات من عينة الدراسة. النتائج المتحصل عليها تشير إلى وجود علاقات ارتباط دالة وموجبة بين أبعاد الإدارة الالكترونية بشكل منفرد، مع أبعاد العمل الإداري مجتمعة..',\n",
       "  'یكاد يخلو مجتمع من المجتمعات لا یتحدث فیه الناس عن التطرف، وأسبابه، وطرق معالجته، نظرًا لانتشاره وتغلغله فى المجتمع خاصة العربى، وازدیاد خطورته على الفرد والمجتمع, وقد حدث جدال كبیر حول دور وسائل الإعلام فى العمل على زیادة عدد المتطرفین والملتحقین بصفوف الإرهاب، وحملوها مسئولیة كبرى فى تزیین التطرف فى نفوس الناس، وتبالغ فى وصف التطرف، وكأنها ترفع من شأن المتطرفين، مما یزعزع الثقة بقیم وعقیدة المجتمع, لذا سنحاول من خلال هذه الورقة العلمیة أن نضع بصمات فى تأثیر الإعلام فى زیادة التطرف فى المجتمع، وبصیغة إعلامیة لوضع القارئ فى الصورة التى یعالج من خلالها الإعلام التطرف.الكلمات المفتاحية: التطرف, الإعلام, الوقاية, اشكالية العلاقة.'])"
      ]
     },
     "execution_count": 48,
     "metadata": {},
     "output_type": "execute_result"
    }
   ],
   "source": [
    "sorted([abstract['original_abstract'] for abstract in filtered_abstracts['allam']])[:5],sorted([abstract['original_abstract'] for abstract in filtered_abstracts['allam']])[-5:]"
   ]
  },
  {
   "cell_type": "code",
   "execution_count": 49,
   "metadata": {},
   "outputs": [
    {
     "data": {
      "text/plain": [
       "(['\"غني عن القول أنّ القرآن من هذه النّاحية حجاج صرف، لا لكونه خطابا حواريًّا فحسب، وإنّما لأنّه يدعو بصريح اللّفظ إلى نبذ العنف في شأن الإيمان، وهو ما يقتضي أنّه حوار وحجاج\" قدور عمران. البعد التّداولي في الخطاب القرآني إسرائيل\"الحكمة الإلهيّة في اختيار المعجزة من جنس ما اشتهر بين القوم هي أنّ الإنسان إذا أوتي من قِبل ما يعتبره مفخرته ومجال إجادته واعتزازه تكون الحجّة عليه أقوى والمعجز أكثر فعلا وأثرا\". مصطفى مسلم. مباحث في إعجاز القرآن.',\n",
       "  '(علم النص) آخر ما توصلت إليه اللسانيات الغربية المعاصرة، به انتقل البحث اللساني من نحو الجملة إلى نحو النص، وأصبح التحليل النصي للخطاب قائما على نظام الوحدة الموضوعية أو البنية الكبرى، وبها ترتبط الوحدات أو البنى الصغرى في النص..وقد أقام (علم النص) جملة من المعايير يحكم بها على نصية أو نصانية النص، ويزعم أصحاب هذا الفن أن لهم السبق فيما توصلوا إليه. فإن كان زعمهم يصدق عندهم في الغرب، فهل سبقوا حقا العرب في ذلك. وللإجابة عن هذا السؤال تأتي هذه المقاربة لواحد من العلوم الكثيرة عند العرب والمسلمين، هو التفسير الموضوعي للسورة القرآنية...',\n",
       "  '.الاهتمام بالمخطوط العقدي والكلامي في المغرب العربي والشمال الإفريقي.. له أهمية كبيرة في معرفة ماهية هذه المخطوطات وأهميتها، فهي دليل مادي ملموس لشرح حيثيات الدرس العقدي والكلامي والفلسفي.. والتعريف بأهم الأعلام والمؤلفات التي كانت لها الحظوة في زمان المخطوط، كما يبين أيضا أهم القضايا والإشكالات التي كانت تشغل الفكر العقدي الكلامي والفلسفي.. أنداك.وفي هذا البحث ذكر للمخطوط المذكور أعلاه ، وهو عبارة عن دراسة لمسألة \"بعث الأجسام\" وإشكالاتها الكلامية في الغرب الإسلامي في نهاية القرن الثامن وبداية القرن القرن التاسع الهجري، لأحد أبرز علماء هذه الفترة، وهو أبو القاسم ابن مخلص السبتي ( كان حيّاً 812 هـ) رحمه الله تعالى.',\n",
       "  '.تهدف الدراسة إلى التعرف على أثر التدريب المدمج على تنمية مهارات التمرير الطويل و المراوغة لدى براعم كرة القدم بولاية أم البواقي، وتم استخدام المنهج التجريبي، وتم إختيار عينة الدراسة بطريقة عمدية وتكونت من 36 لاعبا تم تقسيمهم إلى مجموعتين إحداهما تجريبية و الأخرى ضابطة ضمت كل منهما 18 لاعبا من فريقي إتحاد عين البيضاء و شباب الضلعة لكرة القدم ، وتم الاعتماد على الاختبارات المهارية، وتوصلنا إلى وجود أثر إيجابي لطريقة التدريب المدمج على تنمية المتغيرات المهارية ( التمرير الطويل ، المراوغة ) في كرة القدم، وقد أوصت الدراسة بضرورة الاهتمام أكثر بالصفات المهارية مستقبلا لأنها سر النجاح والتفوق.',\n",
       "  '.ملخص الدراسة. في ظل المتغيرات التي شهدها العالم والتي أدت إلى تحولات في العديد من المجالات الاقتصادية والاجتماعية، وظهور مفاهيم جديدة على غرار اقتصاد السوق والمناداة بإعطاء القطاع الخاص نصيبا ودورا في التنمية الشاملة والتي في مقدمتها التربية والتعليم، سعت الجزائر إلى إصلاح منظومتها التربوية من خلال القانون رقم 08_04، المتضمن القانون التوجيهي للتربية الوطنية، المعدل والمتمم، وذلك لمنح المبادرات الفردية دورها في النهوض بالتنمية البشرية وتحسين جودة التعليم، وفي الوقت ذاته تخفيف العبء على وزارة التربية الوطنية. وباعتبار أن الاستثمار في مرفق التعليم حديث نسبيا ويختلف تماما عن الاستثمار في قطاعات أخرى، فإن الدراسة كشفت أن مؤسسات التربية والتعليم الخاصة قد لقيت صعوبات خاصة في بداية مشوارها وذلك لنقص خبرتها وتجربتها، وهي اليوم _بمثل حاجة الدولة إليها_ تحتاج إلى خبرة وكفاءة القطاع العمومي لتحسين أدائها وتطوير نشاطها، ولا يتم ذلك إلا من خلال توفير مناخ قانوني واجتماعي وسياسي مناسب، وتوطيد علاقتها بمؤسسات التربية والتعليم العمومية لتبادل الخبرات والكفاءات. الكلمات المفتاحية: القطاع الخاص_ مؤسسات التربية والتعليم الخاصة_ الاستثمار في مرفق التربية والتعليم.'],\n",
       " ['يُعنى هذا البحث ببيان قاعدة أو نظرية \"الضرورة\"، واستخراج تطبيقات مالكية الجزائر وما جاورها من خلال كتاب \"الدرر المكنونة في نوازل مازونة\" في مختلف الأبواب الفقهية؛ كون الضرورة تدخل تحتها قواعد أصولية وفقهية كثيرة.وقد أسفرت نتائج البحث إلى أنّ علماء النوازل المالكية قد زاوجوا بين العقل والنقل، وبين التنظير والتطبيق، وبين القواعد الفقهية والقواعد الأصولية، وقد ظهر ذلك جليا في الفتاوى والنوازل التي جمعها أبو زكريا يحي بن موسى المازوني رحمه الله تعالى، حيث أعملوا قواعد التيسير ورفع الحرج ودفع المشقة على الناس، دون الخروج عن قواعد الشرع وأدلته، ومنه قاعدة الضرورة والحاجة، فكانت الفتوى بها في مواطن كثيرة من هذه الموسوعة، وقد اخترت نماذج من العبادات والمعاملات، بعدما وضعت نبذة مختصرة عن الدرر المكنونة في نوازل مازونة، ثم عرفت الضرورة، وذكرت شروطها، وبعض القواعد التي لها علاقة بها.كلمات مفتاحية: الضرورة؛ النوازل؛ مازونة.',\n",
       "  'يُعَدُّ نشاط التعبير من أبرز ما يقف عنده المعلم في تعليم العربية ، وعلومها؛ ولا شك أنّ ما يميّزُ تلك التقنية_ أوذلك النشاط_ أنها المدخل إلى المعرفة باللغة وعلومها، ومن هذا المنطلق ارتأينا في هذه المداخلة أنْ نقف عند بنية التعبير في اللغة العربية من حيث وقوع هذه البنية في مفترق مفهومين متداخلين ، ومختلفين بعض الشيء، ومع ذلك فيمكننا أن نضع للتعبير بنية ، وستكون مبررات البحث كامنة في البحث عن تلك البنية من منطلق التعليم والتدريس، وكون أحدهما أشمل من الآخر في تحديد خصوصية بنية التعبير، وسيكون حظنا في تحليل البنية نظريا أكثر منه تطبيقيا ، وسيكون للآراء المختلفة المستشهد بها في التحليل؛ ركيزة لبناء مفهوم للتعبير من منطلق البنية وشروطها..',\n",
       "  'ُلَخَّصُ الْبَحْثِ:يُحَاوِلُ الْمَقَالُ أَنْ يُبَيِّنَ كَيْفِيَّةَ إِسْهَامِ الْإِحَالَةِ بِنَوْعَيْهَا الضَّمِيرِيَّةِ وَالْإِشَارِيَّةِ فِي اتِّسَاقِ الْخِطَابِ الْقُرْآنِيِّ، سَوَاءٌ كَانَتْ إِحَالَةً لُغَوِيَّةً أَمْ غَيْرَ لُغَوِيَّةٍ؛ إِذْ يَتَحَمَّلُ الْعَائِدُ صُوَرَ الْإِحَالَةِ الْمُمْكِنَةِ، فَيَرْبِطُ بَيْنَ الْكَلِمَاتِ فِي الْآيَةِ الْوَاحِدَةِ فَيُحِيلُ عَلَى جُزْءٍ يُمْكِنُ وَسْمُهُ شَكْلًا. وَهِيَ إِحَالَةٌ جُزْئِيَّةٌ لَا تَمْنَعُ الضَّمِيرَ مِنْ أَنْ يُحِيلَ أَحْيَانًا عَلَى مَا لَا يُمْكِنُ وَسْمُهُ شَكْلًا، فَيَخْرُجُ إِلَى إِحَالَةٍ مُوَسَّعَةٍ، تَتَعَدَّى الْعُنْصُرَ وَالْجُمْلَةَ إِلَى الْإِحَالَةِ عَلَى خِطَابٍ بِرُمَّتِهِ. أَمَّا غُمُوضُ الْإِحَالَةِ وَعَدَمُ وُضُوحِ الْعَائِدِ فِيهَا فَإِنَّ تَسْوِيقَهَا هُوَ الصَّائِرُ إِلَيْهِ، وَهُوَ مَا تُمَثِّلُهُ أَسْبَابُ النُّزُولِ.',\n",
       "  'ِتكنولوجيا المعلومات الحديثة دورا رئيسيا في إحداث التحولات المختلفة في العمل الإداري، حيث ساهمت في تطوير الكثير من مراحل العمل الإداري وتطوير أساليبه وتوفير المعلومات في الوقت المناسب وبأقل وتكلفة، إنها العديد من المزايا التي تمنحها تكنولوجيا المعلومات الحديثة للعمل الإداري من خلال تطبيق الإدارة الالكترونية صبغة الجودة على أعمال ونشاطات المؤسسة المختلفة، الأمر الذي بدوره يمكنها من تحسين أدائها وتحقيق الجودة بشكل أفضل. وفي هذا المقال نهدف إلى التعرف على مدى مساهمة الإدارة الالكترونية في تطوير العمل الإداري بمؤسسات التعليم العالي في الجزائر. ولتحقيق ذلك صيغت أربع فرضيات، اختبرت بواسطة مجموعة من الأساليب الإحصائية، واستخدمت الاستبانة كأداة رئيسة لجمع البيانات والمعلومات من عينة الدراسة. النتائج المتحصل عليها تشير إلى وجود علاقات ارتباط دالة وموجبة بين أبعاد الإدارة الالكترونية بشكل منفرد، مع أبعاد العمل الإداري مجتمعة..',\n",
       "  'یكاد يخلو مجتمع من المجتمعات لا یتحدث فیه الناس عن التطرف، وأسبابه، وطرق معالجته، نظرًا لانتشاره وتغلغله فى المجتمع خاصة العربى، وازدیاد خطورته على الفرد والمجتمع, وقد حدث جدال كبیر حول دور وسائل الإعلام فى العمل على زیادة عدد المتطرفین والملتحقین بصفوف الإرهاب، وحملوها مسئولیة كبرى فى تزیین التطرف فى نفوس الناس، وتبالغ فى وصف التطرف، وكأنها ترفع من شأن المتطرفين، مما یزعزع الثقة بقیم وعقیدة المجتمع, لذا سنحاول من خلال هذه الورقة العلمیة أن نضع بصمات فى تأثیر الإعلام فى زیادة التطرف فى المجتمع، وبصیغة إعلامیة لوضع القارئ فى الصورة التى یعالج من خلالها الإعلام التطرف.الكلمات المفتاحية: التطرف, الإعلام, الوقاية, اشكالية العلاقة.'])"
      ]
     },
     "execution_count": 49,
     "metadata": {},
     "output_type": "execute_result"
    }
   ],
   "source": [
    "sorted([abstract['original_abstract'] for abstract in filtered_abstracts['jais']])[:5],sorted([abstract['original_abstract'] for abstract in filtered_abstracts['jais']])[-5:]"
   ]
  },
  {
   "cell_type": "code",
   "execution_count": 50,
   "metadata": {},
   "outputs": [
    {
     "data": {
      "text/plain": [
       "(['\"غني عن القول أنّ القرآن من هذه النّاحية حجاج صرف، لا لكونه خطابا حواريًّا فحسب، وإنّما لأنّه يدعو بصريح اللّفظ إلى نبذ العنف في شأن الإيمان، وهو ما يقتضي أنّه حوار وحجاج\" قدور عمران. البعد التّداولي في الخطاب القرآني إسرائيل\"الحكمة الإلهيّة في اختيار المعجزة من جنس ما اشتهر بين القوم هي أنّ الإنسان إذا أوتي من قِبل ما يعتبره مفخرته ومجال إجادته واعتزازه تكون الحجّة عليه أقوى والمعجز أكثر فعلا وأثرا\". مصطفى مسلم. مباحث في إعجاز القرآن.',\n",
       "  '(علم النص) آخر ما توصلت إليه اللسانيات الغربية المعاصرة، به انتقل البحث اللساني من نحو الجملة إلى نحو النص، وأصبح التحليل النصي للخطاب قائما على نظام الوحدة الموضوعية أو البنية الكبرى، وبها ترتبط الوحدات أو البنى الصغرى في النص..وقد أقام (علم النص) جملة من المعايير يحكم بها على نصية أو نصانية النص، ويزعم أصحاب هذا الفن أن لهم السبق فيما توصلوا إليه. فإن كان زعمهم يصدق عندهم في الغرب، فهل سبقوا حقا العرب في ذلك. وللإجابة عن هذا السؤال تأتي هذه المقاربة لواحد من العلوم الكثيرة عند العرب والمسلمين، هو التفسير الموضوعي للسورة القرآنية...',\n",
       "  '.الاهتمام بالمخطوط العقدي والكلامي في المغرب العربي والشمال الإفريقي.. له أهمية كبيرة في معرفة ماهية هذه المخطوطات وأهميتها، فهي دليل مادي ملموس لشرح حيثيات الدرس العقدي والكلامي والفلسفي.. والتعريف بأهم الأعلام والمؤلفات التي كانت لها الحظوة في زمان المخطوط، كما يبين أيضا أهم القضايا والإشكالات التي كانت تشغل الفكر العقدي الكلامي والفلسفي.. أنداك.وفي هذا البحث ذكر للمخطوط المذكور أعلاه ، وهو عبارة عن دراسة لمسألة \"بعث الأجسام\" وإشكالاتها الكلامية في الغرب الإسلامي في نهاية القرن الثامن وبداية القرن القرن التاسع الهجري، لأحد أبرز علماء هذه الفترة، وهو أبو القاسم ابن مخلص السبتي ( كان حيّاً 812 هـ) رحمه الله تعالى.',\n",
       "  '.تهدف الدراسة إلى التعرف على أثر التدريب المدمج على تنمية مهارات التمرير الطويل و المراوغة لدى براعم كرة القدم بولاية أم البواقي، وتم استخدام المنهج التجريبي، وتم إختيار عينة الدراسة بطريقة عمدية وتكونت من 36 لاعبا تم تقسيمهم إلى مجموعتين إحداهما تجريبية و الأخرى ضابطة ضمت كل منهما 18 لاعبا من فريقي إتحاد عين البيضاء و شباب الضلعة لكرة القدم ، وتم الاعتماد على الاختبارات المهارية، وتوصلنا إلى وجود أثر إيجابي لطريقة التدريب المدمج على تنمية المتغيرات المهارية ( التمرير الطويل ، المراوغة ) في كرة القدم، وقد أوصت الدراسة بضرورة الاهتمام أكثر بالصفات المهارية مستقبلا لأنها سر النجاح والتفوق.',\n",
       "  '.ملخص الدراسة. في ظل المتغيرات التي شهدها العالم والتي أدت إلى تحولات في العديد من المجالات الاقتصادية والاجتماعية، وظهور مفاهيم جديدة على غرار اقتصاد السوق والمناداة بإعطاء القطاع الخاص نصيبا ودورا في التنمية الشاملة والتي في مقدمتها التربية والتعليم، سعت الجزائر إلى إصلاح منظومتها التربوية من خلال القانون رقم 08_04، المتضمن القانون التوجيهي للتربية الوطنية، المعدل والمتمم، وذلك لمنح المبادرات الفردية دورها في النهوض بالتنمية البشرية وتحسين جودة التعليم، وفي الوقت ذاته تخفيف العبء على وزارة التربية الوطنية. وباعتبار أن الاستثمار في مرفق التعليم حديث نسبيا ويختلف تماما عن الاستثمار في قطاعات أخرى، فإن الدراسة كشفت أن مؤسسات التربية والتعليم الخاصة قد لقيت صعوبات خاصة في بداية مشوارها وذلك لنقص خبرتها وتجربتها، وهي اليوم _بمثل حاجة الدولة إليها_ تحتاج إلى خبرة وكفاءة القطاع العمومي لتحسين أدائها وتطوير نشاطها، ولا يتم ذلك إلا من خلال توفير مناخ قانوني واجتماعي وسياسي مناسب، وتوطيد علاقتها بمؤسسات التربية والتعليم العمومية لتبادل الخبرات والكفاءات. الكلمات المفتاحية: القطاع الخاص_ مؤسسات التربية والتعليم الخاصة_ الاستثمار في مرفق التربية والتعليم.'],\n",
       " ['يُعنى هذا البحث ببيان قاعدة أو نظرية \"الضرورة\"، واستخراج تطبيقات مالكية الجزائر وما جاورها من خلال كتاب \"الدرر المكنونة في نوازل مازونة\" في مختلف الأبواب الفقهية؛ كون الضرورة تدخل تحتها قواعد أصولية وفقهية كثيرة.وقد أسفرت نتائج البحث إلى أنّ علماء النوازل المالكية قد زاوجوا بين العقل والنقل، وبين التنظير والتطبيق، وبين القواعد الفقهية والقواعد الأصولية، وقد ظهر ذلك جليا في الفتاوى والنوازل التي جمعها أبو زكريا يحي بن موسى المازوني رحمه الله تعالى، حيث أعملوا قواعد التيسير ورفع الحرج ودفع المشقة على الناس، دون الخروج عن قواعد الشرع وأدلته، ومنه قاعدة الضرورة والحاجة، فكانت الفتوى بها في مواطن كثيرة من هذه الموسوعة، وقد اخترت نماذج من العبادات والمعاملات، بعدما وضعت نبذة مختصرة عن الدرر المكنونة في نوازل مازونة، ثم عرفت الضرورة، وذكرت شروطها، وبعض القواعد التي لها علاقة بها.كلمات مفتاحية: الضرورة؛ النوازل؛ مازونة.',\n",
       "  'يُعَدُّ نشاط التعبير من أبرز ما يقف عنده المعلم في تعليم العربية ، وعلومها؛ ولا شك أنّ ما يميّزُ تلك التقنية_ أوذلك النشاط_ أنها المدخل إلى المعرفة باللغة وعلومها، ومن هذا المنطلق ارتأينا في هذه المداخلة أنْ نقف عند بنية التعبير في اللغة العربية من حيث وقوع هذه البنية في مفترق مفهومين متداخلين ، ومختلفين بعض الشيء، ومع ذلك فيمكننا أن نضع للتعبير بنية ، وستكون مبررات البحث كامنة في البحث عن تلك البنية من منطلق التعليم والتدريس، وكون أحدهما أشمل من الآخر في تحديد خصوصية بنية التعبير، وسيكون حظنا في تحليل البنية نظريا أكثر منه تطبيقيا ، وسيكون للآراء المختلفة المستشهد بها في التحليل؛ ركيزة لبناء مفهوم للتعبير من منطلق البنية وشروطها..',\n",
       "  'ُلَخَّصُ الْبَحْثِ:يُحَاوِلُ الْمَقَالُ أَنْ يُبَيِّنَ كَيْفِيَّةَ إِسْهَامِ الْإِحَالَةِ بِنَوْعَيْهَا الضَّمِيرِيَّةِ وَالْإِشَارِيَّةِ فِي اتِّسَاقِ الْخِطَابِ الْقُرْآنِيِّ، سَوَاءٌ كَانَتْ إِحَالَةً لُغَوِيَّةً أَمْ غَيْرَ لُغَوِيَّةٍ؛ إِذْ يَتَحَمَّلُ الْعَائِدُ صُوَرَ الْإِحَالَةِ الْمُمْكِنَةِ، فَيَرْبِطُ بَيْنَ الْكَلِمَاتِ فِي الْآيَةِ الْوَاحِدَةِ فَيُحِيلُ عَلَى جُزْءٍ يُمْكِنُ وَسْمُهُ شَكْلًا. وَهِيَ إِحَالَةٌ جُزْئِيَّةٌ لَا تَمْنَعُ الضَّمِيرَ مِنْ أَنْ يُحِيلَ أَحْيَانًا عَلَى مَا لَا يُمْكِنُ وَسْمُهُ شَكْلًا، فَيَخْرُجُ إِلَى إِحَالَةٍ مُوَسَّعَةٍ، تَتَعَدَّى الْعُنْصُرَ وَالْجُمْلَةَ إِلَى الْإِحَالَةِ عَلَى خِطَابٍ بِرُمَّتِهِ. أَمَّا غُمُوضُ الْإِحَالَةِ وَعَدَمُ وُضُوحِ الْعَائِدِ فِيهَا فَإِنَّ تَسْوِيقَهَا هُوَ الصَّائِرُ إِلَيْهِ، وَهُوَ مَا تُمَثِّلُهُ أَسْبَابُ النُّزُولِ.',\n",
       "  'ِتكنولوجيا المعلومات الحديثة دورا رئيسيا في إحداث التحولات المختلفة في العمل الإداري، حيث ساهمت في تطوير الكثير من مراحل العمل الإداري وتطوير أساليبه وتوفير المعلومات في الوقت المناسب وبأقل وتكلفة، إنها العديد من المزايا التي تمنحها تكنولوجيا المعلومات الحديثة للعمل الإداري من خلال تطبيق الإدارة الالكترونية صبغة الجودة على أعمال ونشاطات المؤسسة المختلفة، الأمر الذي بدوره يمكنها من تحسين أدائها وتحقيق الجودة بشكل أفضل. وفي هذا المقال نهدف إلى التعرف على مدى مساهمة الإدارة الالكترونية في تطوير العمل الإداري بمؤسسات التعليم العالي في الجزائر. ولتحقيق ذلك صيغت أربع فرضيات، اختبرت بواسطة مجموعة من الأساليب الإحصائية، واستخدمت الاستبانة كأداة رئيسة لجمع البيانات والمعلومات من عينة الدراسة. النتائج المتحصل عليها تشير إلى وجود علاقات ارتباط دالة وموجبة بين أبعاد الإدارة الالكترونية بشكل منفرد، مع أبعاد العمل الإداري مجتمعة..',\n",
       "  'یكاد يخلو مجتمع من المجتمعات لا یتحدث فیه الناس عن التطرف، وأسبابه، وطرق معالجته، نظرًا لانتشاره وتغلغله فى المجتمع خاصة العربى، وازدیاد خطورته على الفرد والمجتمع, وقد حدث جدال كبیر حول دور وسائل الإعلام فى العمل على زیادة عدد المتطرفین والملتحقین بصفوف الإرهاب، وحملوها مسئولیة كبرى فى تزیین التطرف فى نفوس الناس، وتبالغ فى وصف التطرف، وكأنها ترفع من شأن المتطرفين، مما یزعزع الثقة بقیم وعقیدة المجتمع, لذا سنحاول من خلال هذه الورقة العلمیة أن نضع بصمات فى تأثیر الإعلام فى زیادة التطرف فى المجتمع، وبصیغة إعلامیة لوضع القارئ فى الصورة التى یعالج من خلالها الإعلام التطرف.الكلمات المفتاحية: التطرف, الإعلام, الوقاية, اشكالية العلاقة.'])"
      ]
     },
     "execution_count": 50,
     "metadata": {},
     "output_type": "execute_result"
    }
   ],
   "source": [
    "sorted([abstract['original_abstract'] for abstract in filtered_abstracts['llama']])[:5],sorted([abstract['original_abstract'] for abstract in filtered_abstracts['llama']])[-5:]"
   ]
  },
  {
   "cell_type": "markdown",
   "metadata": {},
   "source": [
    "save filetered abstracts"
   ]
  },
  {
   "cell_type": "code",
   "execution_count": 51,
   "metadata": {},
   "outputs": [],
   "source": [
    "# save_jsonl(filtered_abstracts['allam'], 'generated_arabic_datasets/allam/arabic_abstracts_dataset/by_polishing_abstracts_abstracts_generation_filtered.jsonl')\n",
    "# save_jsonl(filtered_abstracts['jais'], 'generated_arabic_datasets/jais-batched/arabic_abstracts_dataset/by_polishing_abstracts_abstracts_generation_filtered.jsonl')\n",
    "# save_jsonl(filtered_abstracts['llama'], 'generated_arabic_datasets/llama-batched/arabic_abstracts_dataset/by_polishing_abstracts_abstracts_generation_filtered.jsonl')\n",
    "# save_jsonl(filtered_abstracts['openai'], 'generated_arabic_datasets/openai/arabic_abstracts_dataset/by_polishing_abstracts_abstracts_generation_filtered.jsonl')"
   ]
  },
  {
   "cell_type": "markdown",
   "metadata": {},
   "source": [
    "print descriptive statistics"
   ]
  },
  {
   "cell_type": "code",
   "execution_count": 52,
   "metadata": {},
   "outputs": [
    {
     "name": "stdout",
     "output_type": "stream",
     "text": [
      "Original Abstract Statistics:\n",
      "============================================================\n",
      "\n",
      "Word Count:\n",
      "  Min: 75.0\n",
      "  Max: 292.0\n",
      "  Avg: 119.7\n",
      "\n",
      "Sentence Count:\n",
      "  Min: 1.0\n",
      "  Max: 16.0\n",
      "  Avg: 2.6\n",
      "\n",
      "Sentence Length:\n",
      "  Min: 1.0\n",
      "  Max: 273.0\n",
      "  Avg: 60.1\n",
      "\n",
      "Generated Abstract Statistics:\n",
      "============================================================\n",
      "\n",
      "allam:\n",
      "----------------------------------------\n",
      "\n",
      "Word Count:\n",
      "  Min: 41.0 (Δ: -34.0)\n",
      "  Max: 2796.0 (Δ: +2504.0)\n",
      "  Avg: 104.2 (Δ: -15.5)\n",
      "\n",
      "Sentence Count:\n",
      "  Min: 2.0 (Δ: +1.0)\n",
      "  Max: 160.0 (Δ: +144.0)\n",
      "  Avg: 5.3 (Δ: +2.6)\n",
      "\n",
      "Sentence Length:\n",
      "  Min: 1.0 (Δ: +0.0)\n",
      "  Max: 83.0 (Δ: -190.0)\n",
      "  Avg: 20.4 (Δ: -39.7)\n",
      "\n",
      "openai:\n",
      "----------------------------------------\n",
      "\n",
      "Word Count:\n",
      "  Min: 86.0 (Δ: +11.0)\n",
      "  Max: 224.0 (Δ: -68.0)\n",
      "  Avg: 165.1 (Δ: +45.3)\n",
      "\n",
      "Sentence Count:\n",
      "  Min: 4.0 (Δ: +3.0)\n",
      "  Max: 11.0 (Δ: -5.0)\n",
      "  Avg: 6.4 (Δ: +3.7)\n",
      "\n",
      "Sentence Length:\n",
      "  Min: 1.0 (Δ: +0.0)\n",
      "  Max: 88.0 (Δ: -185.0)\n",
      "  Avg: 26.4 (Δ: -33.7)\n",
      "\n",
      "jais:\n",
      "----------------------------------------\n",
      "\n",
      "Word Count:\n",
      "  Min: 30.0 (Δ: -45.0)\n",
      "  Max: 197.0 (Δ: -95.0)\n",
      "  Avg: 68.5 (Δ: -51.2)\n",
      "\n",
      "Sentence Count:\n",
      "  Min: 1.0 (Δ: +0.0)\n",
      "  Max: 10.0 (Δ: -6.0)\n",
      "  Avg: 3.4 (Δ: +0.8)\n",
      "\n",
      "Sentence Length:\n",
      "  Min: 1.0 (Δ: +0.0)\n",
      "  Max: 90.0 (Δ: -183.0)\n",
      "  Avg: 20.9 (Δ: -39.2)\n",
      "\n",
      "llama:\n",
      "----------------------------------------\n",
      "\n",
      "Word Count:\n",
      "  Min: 42.0 (Δ: -33.0)\n",
      "  Max: 222.0 (Δ: -70.0)\n",
      "  Avg: 102.3 (Δ: -17.4)\n",
      "\n",
      "Sentence Count:\n",
      "  Min: 1.0 (Δ: +0.0)\n",
      "  Max: 14.0 (Δ: -2.0)\n",
      "  Avg: 4.1 (Δ: +1.4)\n",
      "\n",
      "Sentence Length:\n",
      "  Min: 1.0 (Δ: +0.0)\n",
      "  Max: 196.0 (Δ: -77.0)\n",
      "  Avg: 28.0 (Δ: -32.1)\n"
     ]
    }
   ],
   "source": [
    "print_discriptive_statistics_comparision(calculate_descriptive_statistics(filtered_abstracts))"
   ]
  },
  {
   "cell_type": "markdown",
   "metadata": {},
   "source": [
    "calclate similarity metrics"
   ]
  },
  {
   "cell_type": "code",
   "execution_count": 53,
   "metadata": {},
   "outputs": [
    {
     "name": "stderr",
     "output_type": "stream",
     "text": [
      "[nltk_data] Downloading package wordnet to\n",
      "[nltk_data]     /home/majed_alshaibani/nltk_data...\n",
      "[nltk_data]   Package wordnet is already up-to-date!\n",
      "[nltk_data] Downloading package punkt_tab to\n",
      "[nltk_data]     /home/majed_alshaibani/nltk_data...\n",
      "[nltk_data]   Package punkt_tab is already up-to-date!\n",
      "[nltk_data] Downloading package omw-1.4 to\n",
      "[nltk_data]     /home/majed_alshaibani/nltk_data...\n",
      "[nltk_data]   Package omw-1.4 is already up-to-date!\n"
     ]
    },
    {
     "name": "stdout",
     "output_type": "stream",
     "text": [
      "allam : {'bleu': 0.15636921757110714, 'meteor': 0.32941947819011563, 'rouge_l_f1': 0.23642266869812717, 'bert_score_f1': 0.7879079615848184}\n"
     ]
    },
    {
     "name": "stderr",
     "output_type": "stream",
     "text": [
      "[nltk_data] Downloading package wordnet to\n",
      "[nltk_data]     /home/majed_alshaibani/nltk_data...\n",
      "[nltk_data]   Package wordnet is already up-to-date!\n",
      "[nltk_data] Downloading package punkt_tab to\n",
      "[nltk_data]     /home/majed_alshaibani/nltk_data...\n",
      "[nltk_data]   Package punkt_tab is already up-to-date!\n",
      "[nltk_data] Downloading package omw-1.4 to\n",
      "[nltk_data]     /home/majed_alshaibani/nltk_data...\n",
      "[nltk_data]   Package omw-1.4 is already up-to-date!\n"
     ]
    },
    {
     "name": "stdout",
     "output_type": "stream",
     "text": [
      "openai : {'bleu': 0.063989422395284, 'meteor': 0.24653341877483895, 'rouge_l_f1': 0.24189900797616912, 'bert_score_f1': 0.755879987649272}\n"
     ]
    },
    {
     "name": "stderr",
     "output_type": "stream",
     "text": [
      "[nltk_data] Downloading package wordnet to\n",
      "[nltk_data]     /home/majed_alshaibani/nltk_data...\n",
      "[nltk_data]   Package wordnet is already up-to-date!\n",
      "[nltk_data] Downloading package punkt_tab to\n",
      "[nltk_data]     /home/majed_alshaibani/nltk_data...\n",
      "[nltk_data]   Package punkt_tab is already up-to-date!\n",
      "[nltk_data] Downloading package omw-1.4 to\n",
      "[nltk_data]     /home/majed_alshaibani/nltk_data...\n",
      "[nltk_data]   Package omw-1.4 is already up-to-date!\n"
     ]
    },
    {
     "name": "stdout",
     "output_type": "stream",
     "text": [
      "jais : {'bleu': 0.08806314413537457, 'meteor': 0.244176863302324, 'rouge_l_f1': 0.21660188222032023, 'bert_score_f1': 0.7765476241608495}\n"
     ]
    },
    {
     "name": "stderr",
     "output_type": "stream",
     "text": [
      "[nltk_data] Downloading package wordnet to\n",
      "[nltk_data]     /home/majed_alshaibani/nltk_data...\n",
      "[nltk_data]   Package wordnet is already up-to-date!\n",
      "[nltk_data] Downloading package punkt_tab to\n",
      "[nltk_data]     /home/majed_alshaibani/nltk_data...\n",
      "[nltk_data]   Package punkt_tab is already up-to-date!\n",
      "[nltk_data] Downloading package omw-1.4 to\n",
      "[nltk_data]     /home/majed_alshaibani/nltk_data...\n",
      "[nltk_data]   Package omw-1.4 is already up-to-date!\n"
     ]
    },
    {
     "name": "stdout",
     "output_type": "stream",
     "text": [
      "llama : {'bleu': 0.20419142720821493, 'meteor': 0.3758039050592304, 'rouge_l_f1': 0.22407347944888933, 'bert_score_f1': 0.8063716400468278}\n"
     ]
    }
   ],
   "source": [
    "for model_name, abstracts in filtered_abstracts.items():\n",
    "    print(\n",
    "        model_name, ':',\n",
    "        calculate_metrics_batch(\n",
    "            references=[[abstract['original_abstract']] for abstract in abstracts],\n",
    "            hypotheses=[abstract['generated_abstract'] for abstract in abstracts]\n",
    "        )\n",
    "    )"
   ]
  },
  {
   "cell_type": "code",
   "execution_count": null,
   "metadata": {},
   "outputs": [
    {
     "ename": "",
     "evalue": "",
     "output_type": "error",
     "traceback": [
      "\u001b[1;31mThe Kernel crashed while executing code in the current cell or a previous cell. \n",
      "\u001b[1;31mPlease review the code in the cell(s) to identify a possible cause of the failure. \n",
      "\u001b[1;31mClick <a href='https://aka.ms/vscodeJupyterKernelCrash'>here</a> for more info. \n",
      "\u001b[1;31mView Jupyter <a href='command:jupyter.viewOutput'>log</a> for further details."
     ]
    }
   ],
   "source": [
    "exit()"
   ]
  }
 ],
 "metadata": {
  "kernelspec": {
   "display_name": "venv",
   "language": "python",
   "name": "python3"
  },
  "language_info": {
   "codemirror_mode": {
    "name": "ipython",
    "version": 3
   },
   "file_extension": ".py",
   "mimetype": "text/x-python",
   "name": "python",
   "nbconvert_exporter": "python",
   "pygments_lexer": "ipython3",
   "version": "3.10.12"
  }
 },
 "nbformat": 4,
 "nbformat_minor": 2
}
