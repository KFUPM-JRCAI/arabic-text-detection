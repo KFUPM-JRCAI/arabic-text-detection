{
 "cells": [
  {
   "cell_type": "code",
   "execution_count": 1,
   "metadata": {},
   "outputs": [],
   "source": [
    "import datasets"
   ]
  },
  {
   "cell_type": "code",
   "execution_count": 2,
   "metadata": {},
   "outputs": [
    {
     "data": {
      "application/vnd.jupyter.widget-view+json": {
       "model_id": "b3765326c63c41aa921f84a6223cf35a",
       "version_major": 2,
       "version_minor": 0
      },
      "text/plain": [
       "Downloading readme:   0%|          | 0.00/4.83k [00:00<?, ?B/s]"
      ]
     },
     "metadata": {},
     "output_type": "display_data"
    },
    {
     "data": {
      "application/vnd.jupyter.widget-view+json": {
       "model_id": "6123b8411e1941fda64ffc64860c0830",
       "version_major": 2,
       "version_minor": 0
      },
      "text/plain": [
       "Downloading data:   0%|          | 0.00/217M [00:00<?, ?B/s]"
      ]
     },
     "metadata": {},
     "output_type": "display_data"
    },
    {
     "data": {
      "application/vnd.jupyter.widget-view+json": {
       "model_id": "3f034ca64a05489caafd83ef6e582218",
       "version_major": 2,
       "version_minor": 0
      },
      "text/plain": [
       "Downloading data:   0%|          | 0.00/216M [00:00<?, ?B/s]"
      ]
     },
     "metadata": {},
     "output_type": "display_data"
    },
    {
     "data": {
      "application/vnd.jupyter.widget-view+json": {
       "model_id": "bfb1347eb9424093b0e9fc394e967aee",
       "version_major": 2,
       "version_minor": 0
      },
      "text/plain": [
       "Downloading data:   0%|          | 0.00/229M [00:00<?, ?B/s]"
      ]
     },
     "metadata": {},
     "output_type": "display_data"
    },
    {
     "data": {
      "application/vnd.jupyter.widget-view+json": {
       "model_id": "4f726ec4e5e34e7ca841c5c66daa0d55",
       "version_major": 2,
       "version_minor": 0
      },
      "text/plain": [
       "Generating train split:   0%|          | 0/2141146 [00:00<?, ? examples/s]"
      ]
     },
     "metadata": {},
     "output_type": "display_data"
    },
    {
     "data": {
      "text/plain": [
       "DatasetDict({\n",
       "    train: Dataset({\n",
       "        features: ['question', 'answer', 'context'],\n",
       "        num_rows: 2141146\n",
       "    })\n",
       "})"
      ]
     },
     "execution_count": 2,
     "metadata": {},
     "output_type": "execute_result"
    }
   ],
   "source": [
    "dataset = datasets.load_dataset(\"riotu-lab/ArabicQA_2.1M\")\n",
    "dataset"
   ]
  },
  {
   "cell_type": "code",
   "execution_count": 9,
   "metadata": {},
   "outputs": [
    {
     "data": {
      "text/plain": [
       "{'question': 'أكثر من (٣٧٢٠٠١ ) إجراءً قام به أعضاء النيابة العامة خلال فترة (٢١) يوماً',\n",
       " 'answer': 'خامسا عدم إمكانية تجريح أعضاء النيابة العامة يعني تجريح القضاة في الدعوى الجنائية إبعادهم عن النظر في الدعوى موضوع التجريح متى توفرت إحدى أسبابه ، من هذا المفهوم يثور التساؤل حول ما إذا كان من حق المتهم أن يطلب إبعاد عضو النيابة العامة عن النظر في الدعوى، خاصة إذا أخذنا بعين الاعتبار مبدأ عدم المساءلة المتحدث عنه أعلاه؟ الجواب أنه لا يجوز ذلك، فقد اتجهت إرادة المشرع وبنص صريح إلى التنصيص على عدم جواز تجريح أعضاء النيابة العامة في المادة من قانون المسطرة الجنائية، عكس ما هو الأمر عليه بالنسبة لقضاة الأحكام وأكدت النيابة العامة أنها ليست بصد تعين من هم خارج الجهاز الإداري لدولة؛ التزاما بالقانون والقواعد المنظمة لذلك',\n",
       " 'context': None}"
      ]
     },
     "execution_count": 9,
     "metadata": {},
     "output_type": "execute_result"
    }
   ],
   "source": [
    "import random\n",
    "random_int = random.randint(0, 2141146)\n",
    "\n",
    "dataset[\"train\"][random_int]"
   ]
  }
 ],
 "metadata": {
  "kernelspec": {
   "display_name": "venv",
   "language": "python",
   "name": "python3"
  },
  "language_info": {
   "codemirror_mode": {
    "name": "ipython",
    "version": 3
   },
   "file_extension": ".py",
   "mimetype": "text/x-python",
   "name": "python",
   "nbconvert_exporter": "python",
   "pygments_lexer": "ipython3",
   "version": "3.10.12"
  }
 },
 "nbformat": 4,
 "nbformat_minor": 2
}
